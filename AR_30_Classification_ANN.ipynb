{
  "nbformat": 4,
  "nbformat_minor": 0,
  "metadata": {
    "colab": {
      "name": "AR 30 Classification ANN.ipynb",
      "provenance": [],
      "collapsed_sections": [],
      "authorship_tag": "ABX9TyNN7FJ4OYkF8O4TafRo0El0",
      "include_colab_link": true
    },
    "kernelspec": {
      "name": "python3",
      "display_name": "Python 3"
    },
    "language_info": {
      "name": "python"
    }
  },
  "cells": [
    {
      "cell_type": "markdown",
      "metadata": {
        "id": "view-in-github",
        "colab_type": "text"
      },
      "source": [
        "<a href=\"https://colab.research.google.com/github/hainmit09/AR-ANN-Structural-Damage-Detection-/blob/main/AR_30_Classification_ANN.ipynb\" target=\"_parent\"><img src=\"https://colab.research.google.com/assets/colab-badge.svg\" alt=\"Open In Colab\"/></a>"
      ]
    },
    {
      "cell_type": "markdown",
      "source": [
        "Import các thư viện cần thiết"
      ],
      "metadata": {
        "id": "rSUVDNYBydK1"
      }
    },
    {
      "cell_type": "code",
      "source": [
        "import numpy as np\n",
        "import pandas as pd\n",
        "import matplotlib.pyplot as plt\n",
        "import tensorflow as tf\n",
        "import keras\n",
        "from sklearn.model_selection import train_test_split"
      ],
      "metadata": {
        "id": "uvxoLWRSyg80"
      },
      "execution_count": 40,
      "outputs": []
    },
    {
      "cell_type": "markdown",
      "source": [
        "Đọc dữ liệu từ file csv"
      ],
      "metadata": {
        "id": "98CCSWdDyXT2"
      }
    },
    {
      "cell_type": "code",
      "execution_count": 21,
      "metadata": {
        "colab": {
          "base_uri": "https://localhost:8080/",
          "height": 299
        },
        "id": "PV35FCszvXgg",
        "outputId": "1ec95782-d73f-4056-8cb3-d31dc5ca7e9d"
      },
      "outputs": [
        {
          "output_type": "execute_result",
          "data": {
            "text/plain": [
              "          0         1         2         3         4         5         6  \\\n",
              "0  0.188551 -1.831313  0.269703 -1.899566  0.367822 -1.337485  0.560015   \n",
              "1  0.001323 -1.513705 -0.025424 -1.286226  0.214456 -0.595287  0.541101   \n",
              "2  0.042113 -1.560507 -0.053504 -1.487476  0.059937 -0.825542  0.197459   \n",
              "3  0.288522 -1.524582  0.452929 -1.551784  0.527094 -0.808047  0.428855   \n",
              "4  0.374052 -1.567791  0.713601 -1.718501  0.873121 -1.098372  0.808788   \n",
              "\n",
              "          7         8         9  ...        20        21        22        23  \\\n",
              "0 -0.447530  0.601489  0.136189  ...  0.045936  0.465558  0.193725  0.505233   \n",
              "1  0.292676  0.626366  0.556689  ...  0.010720  0.587200  0.329819  0.662693   \n",
              "2  0.073489  0.307278  0.492737  ...  0.016416  0.507250  0.232045  0.633422   \n",
              "3  0.051967  0.283276  0.425607  ... -0.230640  0.531735 -0.038901  0.568340   \n",
              "4 -0.284880  0.514294  0.092092  ... -0.379367  0.577784 -0.198218  0.455401   \n",
              "\n",
              "         24        25        26        27        28        29  \n",
              "0  0.222883  0.420898  0.188927  0.257299  0.079685  0.093056  \n",
              "1  0.380200  0.506202  0.297332  0.241586  0.120309  0.059965  \n",
              "2  0.277323  0.553907  0.254098  0.328015  0.113745  0.119630  \n",
              "3  0.058347  0.424846  0.080205  0.212624  0.050079  0.057377  \n",
              "4 -0.100408  0.223588 -0.034277  0.043612 -0.002408 -0.025903  \n",
              "\n",
              "[5 rows x 30 columns]"
            ],
            "text/html": [
              "\n",
              "  <div id=\"df-643d38a7-bdce-4f7a-ac3a-e6fc33150ff1\">\n",
              "    <div class=\"colab-df-container\">\n",
              "      <div>\n",
              "<style scoped>\n",
              "    .dataframe tbody tr th:only-of-type {\n",
              "        vertical-align: middle;\n",
              "    }\n",
              "\n",
              "    .dataframe tbody tr th {\n",
              "        vertical-align: top;\n",
              "    }\n",
              "\n",
              "    .dataframe thead th {\n",
              "        text-align: right;\n",
              "    }\n",
              "</style>\n",
              "<table border=\"1\" class=\"dataframe\">\n",
              "  <thead>\n",
              "    <tr style=\"text-align: right;\">\n",
              "      <th></th>\n",
              "      <th>0</th>\n",
              "      <th>1</th>\n",
              "      <th>2</th>\n",
              "      <th>3</th>\n",
              "      <th>4</th>\n",
              "      <th>5</th>\n",
              "      <th>6</th>\n",
              "      <th>7</th>\n",
              "      <th>8</th>\n",
              "      <th>9</th>\n",
              "      <th>...</th>\n",
              "      <th>20</th>\n",
              "      <th>21</th>\n",
              "      <th>22</th>\n",
              "      <th>23</th>\n",
              "      <th>24</th>\n",
              "      <th>25</th>\n",
              "      <th>26</th>\n",
              "      <th>27</th>\n",
              "      <th>28</th>\n",
              "      <th>29</th>\n",
              "    </tr>\n",
              "  </thead>\n",
              "  <tbody>\n",
              "    <tr>\n",
              "      <th>0</th>\n",
              "      <td>0.188551</td>\n",
              "      <td>-1.831313</td>\n",
              "      <td>0.269703</td>\n",
              "      <td>-1.899566</td>\n",
              "      <td>0.367822</td>\n",
              "      <td>-1.337485</td>\n",
              "      <td>0.560015</td>\n",
              "      <td>-0.447530</td>\n",
              "      <td>0.601489</td>\n",
              "      <td>0.136189</td>\n",
              "      <td>...</td>\n",
              "      <td>0.045936</td>\n",
              "      <td>0.465558</td>\n",
              "      <td>0.193725</td>\n",
              "      <td>0.505233</td>\n",
              "      <td>0.222883</td>\n",
              "      <td>0.420898</td>\n",
              "      <td>0.188927</td>\n",
              "      <td>0.257299</td>\n",
              "      <td>0.079685</td>\n",
              "      <td>0.093056</td>\n",
              "    </tr>\n",
              "    <tr>\n",
              "      <th>1</th>\n",
              "      <td>0.001323</td>\n",
              "      <td>-1.513705</td>\n",
              "      <td>-0.025424</td>\n",
              "      <td>-1.286226</td>\n",
              "      <td>0.214456</td>\n",
              "      <td>-0.595287</td>\n",
              "      <td>0.541101</td>\n",
              "      <td>0.292676</td>\n",
              "      <td>0.626366</td>\n",
              "      <td>0.556689</td>\n",
              "      <td>...</td>\n",
              "      <td>0.010720</td>\n",
              "      <td>0.587200</td>\n",
              "      <td>0.329819</td>\n",
              "      <td>0.662693</td>\n",
              "      <td>0.380200</td>\n",
              "      <td>0.506202</td>\n",
              "      <td>0.297332</td>\n",
              "      <td>0.241586</td>\n",
              "      <td>0.120309</td>\n",
              "      <td>0.059965</td>\n",
              "    </tr>\n",
              "    <tr>\n",
              "      <th>2</th>\n",
              "      <td>0.042113</td>\n",
              "      <td>-1.560507</td>\n",
              "      <td>-0.053504</td>\n",
              "      <td>-1.487476</td>\n",
              "      <td>0.059937</td>\n",
              "      <td>-0.825542</td>\n",
              "      <td>0.197459</td>\n",
              "      <td>0.073489</td>\n",
              "      <td>0.307278</td>\n",
              "      <td>0.492737</td>\n",
              "      <td>...</td>\n",
              "      <td>0.016416</td>\n",
              "      <td>0.507250</td>\n",
              "      <td>0.232045</td>\n",
              "      <td>0.633422</td>\n",
              "      <td>0.277323</td>\n",
              "      <td>0.553907</td>\n",
              "      <td>0.254098</td>\n",
              "      <td>0.328015</td>\n",
              "      <td>0.113745</td>\n",
              "      <td>0.119630</td>\n",
              "    </tr>\n",
              "    <tr>\n",
              "      <th>3</th>\n",
              "      <td>0.288522</td>\n",
              "      <td>-1.524582</td>\n",
              "      <td>0.452929</td>\n",
              "      <td>-1.551784</td>\n",
              "      <td>0.527094</td>\n",
              "      <td>-0.808047</td>\n",
              "      <td>0.428855</td>\n",
              "      <td>0.051967</td>\n",
              "      <td>0.283276</td>\n",
              "      <td>0.425607</td>\n",
              "      <td>...</td>\n",
              "      <td>-0.230640</td>\n",
              "      <td>0.531735</td>\n",
              "      <td>-0.038901</td>\n",
              "      <td>0.568340</td>\n",
              "      <td>0.058347</td>\n",
              "      <td>0.424846</td>\n",
              "      <td>0.080205</td>\n",
              "      <td>0.212624</td>\n",
              "      <td>0.050079</td>\n",
              "      <td>0.057377</td>\n",
              "    </tr>\n",
              "    <tr>\n",
              "      <th>4</th>\n",
              "      <td>0.374052</td>\n",
              "      <td>-1.567791</td>\n",
              "      <td>0.713601</td>\n",
              "      <td>-1.718501</td>\n",
              "      <td>0.873121</td>\n",
              "      <td>-1.098372</td>\n",
              "      <td>0.808788</td>\n",
              "      <td>-0.284880</td>\n",
              "      <td>0.514294</td>\n",
              "      <td>0.092092</td>\n",
              "      <td>...</td>\n",
              "      <td>-0.379367</td>\n",
              "      <td>0.577784</td>\n",
              "      <td>-0.198218</td>\n",
              "      <td>0.455401</td>\n",
              "      <td>-0.100408</td>\n",
              "      <td>0.223588</td>\n",
              "      <td>-0.034277</td>\n",
              "      <td>0.043612</td>\n",
              "      <td>-0.002408</td>\n",
              "      <td>-0.025903</td>\n",
              "    </tr>\n",
              "  </tbody>\n",
              "</table>\n",
              "<p>5 rows × 30 columns</p>\n",
              "</div>\n",
              "      <button class=\"colab-df-convert\" onclick=\"convertToInteractive('df-643d38a7-bdce-4f7a-ac3a-e6fc33150ff1')\"\n",
              "              title=\"Convert this dataframe to an interactive table.\"\n",
              "              style=\"display:none;\">\n",
              "        \n",
              "  <svg xmlns=\"http://www.w3.org/2000/svg\" height=\"24px\"viewBox=\"0 0 24 24\"\n",
              "       width=\"24px\">\n",
              "    <path d=\"M0 0h24v24H0V0z\" fill=\"none\"/>\n",
              "    <path d=\"M18.56 5.44l.94 2.06.94-2.06 2.06-.94-2.06-.94-.94-2.06-.94 2.06-2.06.94zm-11 1L8.5 8.5l.94-2.06 2.06-.94-2.06-.94L8.5 2.5l-.94 2.06-2.06.94zm10 10l.94 2.06.94-2.06 2.06-.94-2.06-.94-.94-2.06-.94 2.06-2.06.94z\"/><path d=\"M17.41 7.96l-1.37-1.37c-.4-.4-.92-.59-1.43-.59-.52 0-1.04.2-1.43.59L10.3 9.45l-7.72 7.72c-.78.78-.78 2.05 0 2.83L4 21.41c.39.39.9.59 1.41.59.51 0 1.02-.2 1.41-.59l7.78-7.78 2.81-2.81c.8-.78.8-2.07 0-2.86zM5.41 20L4 18.59l7.72-7.72 1.47 1.35L5.41 20z\"/>\n",
              "  </svg>\n",
              "      </button>\n",
              "      \n",
              "  <style>\n",
              "    .colab-df-container {\n",
              "      display:flex;\n",
              "      flex-wrap:wrap;\n",
              "      gap: 12px;\n",
              "    }\n",
              "\n",
              "    .colab-df-convert {\n",
              "      background-color: #E8F0FE;\n",
              "      border: none;\n",
              "      border-radius: 50%;\n",
              "      cursor: pointer;\n",
              "      display: none;\n",
              "      fill: #1967D2;\n",
              "      height: 32px;\n",
              "      padding: 0 0 0 0;\n",
              "      width: 32px;\n",
              "    }\n",
              "\n",
              "    .colab-df-convert:hover {\n",
              "      background-color: #E2EBFA;\n",
              "      box-shadow: 0px 1px 2px rgba(60, 64, 67, 0.3), 0px 1px 3px 1px rgba(60, 64, 67, 0.15);\n",
              "      fill: #174EA6;\n",
              "    }\n",
              "\n",
              "    [theme=dark] .colab-df-convert {\n",
              "      background-color: #3B4455;\n",
              "      fill: #D2E3FC;\n",
              "    }\n",
              "\n",
              "    [theme=dark] .colab-df-convert:hover {\n",
              "      background-color: #434B5C;\n",
              "      box-shadow: 0px 1px 3px 1px rgba(0, 0, 0, 0.15);\n",
              "      filter: drop-shadow(0px 1px 2px rgba(0, 0, 0, 0.3));\n",
              "      fill: #FFFFFF;\n",
              "    }\n",
              "  </style>\n",
              "\n",
              "      <script>\n",
              "        const buttonEl =\n",
              "          document.querySelector('#df-643d38a7-bdce-4f7a-ac3a-e6fc33150ff1 button.colab-df-convert');\n",
              "        buttonEl.style.display =\n",
              "          google.colab.kernel.accessAllowed ? 'block' : 'none';\n",
              "\n",
              "        async function convertToInteractive(key) {\n",
              "          const element = document.querySelector('#df-643d38a7-bdce-4f7a-ac3a-e6fc33150ff1');\n",
              "          const dataTable =\n",
              "            await google.colab.kernel.invokeFunction('convertToInteractive',\n",
              "                                                     [key], {});\n",
              "          if (!dataTable) return;\n",
              "\n",
              "          const docLinkHtml = 'Like what you see? Visit the ' +\n",
              "            '<a target=\"_blank\" href=https://colab.research.google.com/notebooks/data_table.ipynb>data table notebook</a>'\n",
              "            + ' to learn more about interactive tables.';\n",
              "          element.innerHTML = '';\n",
              "          dataTable['output_type'] = 'display_data';\n",
              "          await google.colab.output.renderOutput(dataTable, element);\n",
              "          const docLink = document.createElement('div');\n",
              "          docLink.innerHTML = docLinkHtml;\n",
              "          element.appendChild(docLink);\n",
              "        }\n",
              "      </script>\n",
              "    </div>\n",
              "  </div>\n",
              "  "
            ]
          },
          "metadata": {},
          "execution_count": 21
        }
      ],
      "source": [
        "df_damag = pd.read_csv('https://raw.githubusercontent.com/hainmit09/AR-ANN-Structural-Damage-Detection-/main/AR_30/Z24_01_avt_ar_lags30.csv')\n",
        "df_damag.head()"
      ]
    },
    {
      "cell_type": "code",
      "source": [
        "df_damag.info()"
      ],
      "metadata": {
        "colab": {
          "base_uri": "https://localhost:8080/"
        },
        "id": "k6va6zy_R5uw",
        "outputId": "c0e33150-08f0-4c46-8307-9ef28edd06c6"
      },
      "execution_count": 22,
      "outputs": [
        {
          "output_type": "stream",
          "name": "stdout",
          "text": [
            "<class 'pandas.core.frame.DataFrame'>\n",
            "RangeIndex: 289 entries, 0 to 288\n",
            "Data columns (total 30 columns):\n",
            " #   Column  Non-Null Count  Dtype  \n",
            "---  ------  --------------  -----  \n",
            " 0   0       289 non-null    float64\n",
            " 1   1       289 non-null    float64\n",
            " 2   2       289 non-null    float64\n",
            " 3   3       289 non-null    float64\n",
            " 4   4       289 non-null    float64\n",
            " 5   5       289 non-null    float64\n",
            " 6   6       289 non-null    float64\n",
            " 7   7       289 non-null    float64\n",
            " 8   8       289 non-null    float64\n",
            " 9   9       289 non-null    float64\n",
            " 10  10      289 non-null    float64\n",
            " 11  11      289 non-null    float64\n",
            " 12  12      289 non-null    float64\n",
            " 13  13      289 non-null    float64\n",
            " 14  14      289 non-null    float64\n",
            " 15  15      289 non-null    float64\n",
            " 16  16      289 non-null    float64\n",
            " 17  17      289 non-null    float64\n",
            " 18  18      289 non-null    float64\n",
            " 19  19      289 non-null    float64\n",
            " 20  20      289 non-null    float64\n",
            " 21  21      289 non-null    float64\n",
            " 22  22      289 non-null    float64\n",
            " 23  23      289 non-null    float64\n",
            " 24  24      289 non-null    float64\n",
            " 25  25      289 non-null    float64\n",
            " 26  26      289 non-null    float64\n",
            " 27  27      289 non-null    float64\n",
            " 28  28      289 non-null    float64\n",
            " 29  29      289 non-null    float64\n",
            "dtypes: float64(30)\n",
            "memory usage: 67.9 KB\n"
          ]
        }
      ]
    },
    {
      "cell_type": "code",
      "source": [
        "df_normal = pd.read_csv('https://github.com/hainmit09/AR-ANN-Structural-Damage-Detection-/raw/main/AR_30/Z24_12_avt_ar_lags30.csv')\n",
        "df_normal.head()"
      ],
      "metadata": {
        "colab": {
          "base_uri": "https://localhost:8080/",
          "height": 299
        },
        "id": "Az_HGYE6zaRT",
        "outputId": "5cf96930-002c-4079-9923-693080c09666"
      },
      "execution_count": 23,
      "outputs": [
        {
          "output_type": "execute_result",
          "data": {
            "text/plain": [
              "          0         1         2         3         4         5         6  \\\n",
              "0  0.215391 -1.988158  0.326786 -2.225446  0.361410 -1.722394  0.428749   \n",
              "1  0.015273 -1.615242 -0.073862 -1.493956  0.010926 -0.906206  0.194786   \n",
              "2  0.018031 -1.717028 -0.114767 -1.811428 -0.109287 -1.250645 -0.090195   \n",
              "3  0.491214 -1.563688  0.920167 -1.650692  1.136241 -0.914208  0.922570   \n",
              "4  0.283590 -1.714851  0.543299 -2.046903  0.659876 -1.504479  0.644691   \n",
              "\n",
              "          7         8         9  ...        20        21        22        23  \\\n",
              "0 -0.790013  0.470387 -0.037052  ...  0.154444  0.594432  0.196298  0.512117   \n",
              "1 -0.077323  0.323855  0.288718  ... -0.168721  0.236515  0.060803  0.350101   \n",
              "2 -0.358772  0.022506  0.214969  ...  0.017743  0.357151  0.120442  0.401228   \n",
              "3  0.013923  0.509549  0.536455  ... -0.114276  0.400581 -0.072637  0.357473   \n",
              "4 -0.567616  0.503193  0.114813  ... -0.432876  0.348140 -0.138496  0.419232   \n",
              "\n",
              "         24        25        26        27        28        29  \n",
              "0  0.161310  0.363328  0.093523  0.179487  0.030643  0.054789  \n",
              "1  0.142934  0.337634  0.111244  0.197976  0.037547  0.071206  \n",
              "2  0.133294  0.356671  0.092019  0.217800  0.020101  0.086484  \n",
              "3 -0.065151  0.238467 -0.074727  0.110160 -0.040050  0.032473  \n",
              "4  0.001883  0.329414  0.017724  0.172469  0.003575  0.049221  \n",
              "\n",
              "[5 rows x 30 columns]"
            ],
            "text/html": [
              "\n",
              "  <div id=\"df-fadb6429-2256-47e8-ab9b-dc6a546c63ce\">\n",
              "    <div class=\"colab-df-container\">\n",
              "      <div>\n",
              "<style scoped>\n",
              "    .dataframe tbody tr th:only-of-type {\n",
              "        vertical-align: middle;\n",
              "    }\n",
              "\n",
              "    .dataframe tbody tr th {\n",
              "        vertical-align: top;\n",
              "    }\n",
              "\n",
              "    .dataframe thead th {\n",
              "        text-align: right;\n",
              "    }\n",
              "</style>\n",
              "<table border=\"1\" class=\"dataframe\">\n",
              "  <thead>\n",
              "    <tr style=\"text-align: right;\">\n",
              "      <th></th>\n",
              "      <th>0</th>\n",
              "      <th>1</th>\n",
              "      <th>2</th>\n",
              "      <th>3</th>\n",
              "      <th>4</th>\n",
              "      <th>5</th>\n",
              "      <th>6</th>\n",
              "      <th>7</th>\n",
              "      <th>8</th>\n",
              "      <th>9</th>\n",
              "      <th>...</th>\n",
              "      <th>20</th>\n",
              "      <th>21</th>\n",
              "      <th>22</th>\n",
              "      <th>23</th>\n",
              "      <th>24</th>\n",
              "      <th>25</th>\n",
              "      <th>26</th>\n",
              "      <th>27</th>\n",
              "      <th>28</th>\n",
              "      <th>29</th>\n",
              "    </tr>\n",
              "  </thead>\n",
              "  <tbody>\n",
              "    <tr>\n",
              "      <th>0</th>\n",
              "      <td>0.215391</td>\n",
              "      <td>-1.988158</td>\n",
              "      <td>0.326786</td>\n",
              "      <td>-2.225446</td>\n",
              "      <td>0.361410</td>\n",
              "      <td>-1.722394</td>\n",
              "      <td>0.428749</td>\n",
              "      <td>-0.790013</td>\n",
              "      <td>0.470387</td>\n",
              "      <td>-0.037052</td>\n",
              "      <td>...</td>\n",
              "      <td>0.154444</td>\n",
              "      <td>0.594432</td>\n",
              "      <td>0.196298</td>\n",
              "      <td>0.512117</td>\n",
              "      <td>0.161310</td>\n",
              "      <td>0.363328</td>\n",
              "      <td>0.093523</td>\n",
              "      <td>0.179487</td>\n",
              "      <td>0.030643</td>\n",
              "      <td>0.054789</td>\n",
              "    </tr>\n",
              "    <tr>\n",
              "      <th>1</th>\n",
              "      <td>0.015273</td>\n",
              "      <td>-1.615242</td>\n",
              "      <td>-0.073862</td>\n",
              "      <td>-1.493956</td>\n",
              "      <td>0.010926</td>\n",
              "      <td>-0.906206</td>\n",
              "      <td>0.194786</td>\n",
              "      <td>-0.077323</td>\n",
              "      <td>0.323855</td>\n",
              "      <td>0.288718</td>\n",
              "      <td>...</td>\n",
              "      <td>-0.168721</td>\n",
              "      <td>0.236515</td>\n",
              "      <td>0.060803</td>\n",
              "      <td>0.350101</td>\n",
              "      <td>0.142934</td>\n",
              "      <td>0.337634</td>\n",
              "      <td>0.111244</td>\n",
              "      <td>0.197976</td>\n",
              "      <td>0.037547</td>\n",
              "      <td>0.071206</td>\n",
              "    </tr>\n",
              "    <tr>\n",
              "      <th>2</th>\n",
              "      <td>0.018031</td>\n",
              "      <td>-1.717028</td>\n",
              "      <td>-0.114767</td>\n",
              "      <td>-1.811428</td>\n",
              "      <td>-0.109287</td>\n",
              "      <td>-1.250645</td>\n",
              "      <td>-0.090195</td>\n",
              "      <td>-0.358772</td>\n",
              "      <td>0.022506</td>\n",
              "      <td>0.214969</td>\n",
              "      <td>...</td>\n",
              "      <td>0.017743</td>\n",
              "      <td>0.357151</td>\n",
              "      <td>0.120442</td>\n",
              "      <td>0.401228</td>\n",
              "      <td>0.133294</td>\n",
              "      <td>0.356671</td>\n",
              "      <td>0.092019</td>\n",
              "      <td>0.217800</td>\n",
              "      <td>0.020101</td>\n",
              "      <td>0.086484</td>\n",
              "    </tr>\n",
              "    <tr>\n",
              "      <th>3</th>\n",
              "      <td>0.491214</td>\n",
              "      <td>-1.563688</td>\n",
              "      <td>0.920167</td>\n",
              "      <td>-1.650692</td>\n",
              "      <td>1.136241</td>\n",
              "      <td>-0.914208</td>\n",
              "      <td>0.922570</td>\n",
              "      <td>0.013923</td>\n",
              "      <td>0.509549</td>\n",
              "      <td>0.536455</td>\n",
              "      <td>...</td>\n",
              "      <td>-0.114276</td>\n",
              "      <td>0.400581</td>\n",
              "      <td>-0.072637</td>\n",
              "      <td>0.357473</td>\n",
              "      <td>-0.065151</td>\n",
              "      <td>0.238467</td>\n",
              "      <td>-0.074727</td>\n",
              "      <td>0.110160</td>\n",
              "      <td>-0.040050</td>\n",
              "      <td>0.032473</td>\n",
              "    </tr>\n",
              "    <tr>\n",
              "      <th>4</th>\n",
              "      <td>0.283590</td>\n",
              "      <td>-1.714851</td>\n",
              "      <td>0.543299</td>\n",
              "      <td>-2.046903</td>\n",
              "      <td>0.659876</td>\n",
              "      <td>-1.504479</td>\n",
              "      <td>0.644691</td>\n",
              "      <td>-0.567616</td>\n",
              "      <td>0.503193</td>\n",
              "      <td>0.114813</td>\n",
              "      <td>...</td>\n",
              "      <td>-0.432876</td>\n",
              "      <td>0.348140</td>\n",
              "      <td>-0.138496</td>\n",
              "      <td>0.419232</td>\n",
              "      <td>0.001883</td>\n",
              "      <td>0.329414</td>\n",
              "      <td>0.017724</td>\n",
              "      <td>0.172469</td>\n",
              "      <td>0.003575</td>\n",
              "      <td>0.049221</td>\n",
              "    </tr>\n",
              "  </tbody>\n",
              "</table>\n",
              "<p>5 rows × 30 columns</p>\n",
              "</div>\n",
              "      <button class=\"colab-df-convert\" onclick=\"convertToInteractive('df-fadb6429-2256-47e8-ab9b-dc6a546c63ce')\"\n",
              "              title=\"Convert this dataframe to an interactive table.\"\n",
              "              style=\"display:none;\">\n",
              "        \n",
              "  <svg xmlns=\"http://www.w3.org/2000/svg\" height=\"24px\"viewBox=\"0 0 24 24\"\n",
              "       width=\"24px\">\n",
              "    <path d=\"M0 0h24v24H0V0z\" fill=\"none\"/>\n",
              "    <path d=\"M18.56 5.44l.94 2.06.94-2.06 2.06-.94-2.06-.94-.94-2.06-.94 2.06-2.06.94zm-11 1L8.5 8.5l.94-2.06 2.06-.94-2.06-.94L8.5 2.5l-.94 2.06-2.06.94zm10 10l.94 2.06.94-2.06 2.06-.94-2.06-.94-.94-2.06-.94 2.06-2.06.94z\"/><path d=\"M17.41 7.96l-1.37-1.37c-.4-.4-.92-.59-1.43-.59-.52 0-1.04.2-1.43.59L10.3 9.45l-7.72 7.72c-.78.78-.78 2.05 0 2.83L4 21.41c.39.39.9.59 1.41.59.51 0 1.02-.2 1.41-.59l7.78-7.78 2.81-2.81c.8-.78.8-2.07 0-2.86zM5.41 20L4 18.59l7.72-7.72 1.47 1.35L5.41 20z\"/>\n",
              "  </svg>\n",
              "      </button>\n",
              "      \n",
              "  <style>\n",
              "    .colab-df-container {\n",
              "      display:flex;\n",
              "      flex-wrap:wrap;\n",
              "      gap: 12px;\n",
              "    }\n",
              "\n",
              "    .colab-df-convert {\n",
              "      background-color: #E8F0FE;\n",
              "      border: none;\n",
              "      border-radius: 50%;\n",
              "      cursor: pointer;\n",
              "      display: none;\n",
              "      fill: #1967D2;\n",
              "      height: 32px;\n",
              "      padding: 0 0 0 0;\n",
              "      width: 32px;\n",
              "    }\n",
              "\n",
              "    .colab-df-convert:hover {\n",
              "      background-color: #E2EBFA;\n",
              "      box-shadow: 0px 1px 2px rgba(60, 64, 67, 0.3), 0px 1px 3px 1px rgba(60, 64, 67, 0.15);\n",
              "      fill: #174EA6;\n",
              "    }\n",
              "\n",
              "    [theme=dark] .colab-df-convert {\n",
              "      background-color: #3B4455;\n",
              "      fill: #D2E3FC;\n",
              "    }\n",
              "\n",
              "    [theme=dark] .colab-df-convert:hover {\n",
              "      background-color: #434B5C;\n",
              "      box-shadow: 0px 1px 3px 1px rgba(0, 0, 0, 0.15);\n",
              "      filter: drop-shadow(0px 1px 2px rgba(0, 0, 0, 0.3));\n",
              "      fill: #FFFFFF;\n",
              "    }\n",
              "  </style>\n",
              "\n",
              "      <script>\n",
              "        const buttonEl =\n",
              "          document.querySelector('#df-fadb6429-2256-47e8-ab9b-dc6a546c63ce button.colab-df-convert');\n",
              "        buttonEl.style.display =\n",
              "          google.colab.kernel.accessAllowed ? 'block' : 'none';\n",
              "\n",
              "        async function convertToInteractive(key) {\n",
              "          const element = document.querySelector('#df-fadb6429-2256-47e8-ab9b-dc6a546c63ce');\n",
              "          const dataTable =\n",
              "            await google.colab.kernel.invokeFunction('convertToInteractive',\n",
              "                                                     [key], {});\n",
              "          if (!dataTable) return;\n",
              "\n",
              "          const docLinkHtml = 'Like what you see? Visit the ' +\n",
              "            '<a target=\"_blank\" href=https://colab.research.google.com/notebooks/data_table.ipynb>data table notebook</a>'\n",
              "            + ' to learn more about interactive tables.';\n",
              "          element.innerHTML = '';\n",
              "          dataTable['output_type'] = 'display_data';\n",
              "          await google.colab.output.renderOutput(dataTable, element);\n",
              "          const docLink = document.createElement('div');\n",
              "          docLink.innerHTML = docLinkHtml;\n",
              "          element.appendChild(docLink);\n",
              "        }\n",
              "      </script>\n",
              "    </div>\n",
              "  </div>\n",
              "  "
            ]
          },
          "metadata": {},
          "execution_count": 23
        }
      ]
    },
    {
      "cell_type": "code",
      "source": [
        ""
      ],
      "metadata": {
        "id": "2S5Qe0FeSEPe"
      },
      "execution_count": 23,
      "outputs": []
    },
    {
      "cell_type": "code",
      "source": [
        "df_normal.info()"
      ],
      "metadata": {
        "colab": {
          "base_uri": "https://localhost:8080/"
        },
        "id": "OZB_bS76SRj2",
        "outputId": "b5d8dc7e-c015-4aa8-d1eb-a835db490162"
      },
      "execution_count": 24,
      "outputs": [
        {
          "output_type": "stream",
          "name": "stdout",
          "text": [
            "<class 'pandas.core.frame.DataFrame'>\n",
            "RangeIndex: 291 entries, 0 to 290\n",
            "Data columns (total 30 columns):\n",
            " #   Column  Non-Null Count  Dtype  \n",
            "---  ------  --------------  -----  \n",
            " 0   0       291 non-null    float64\n",
            " 1   1       291 non-null    float64\n",
            " 2   2       291 non-null    float64\n",
            " 3   3       291 non-null    float64\n",
            " 4   4       291 non-null    float64\n",
            " 5   5       291 non-null    float64\n",
            " 6   6       291 non-null    float64\n",
            " 7   7       291 non-null    float64\n",
            " 8   8       291 non-null    float64\n",
            " 9   9       291 non-null    float64\n",
            " 10  10      291 non-null    float64\n",
            " 11  11      291 non-null    float64\n",
            " 12  12      291 non-null    float64\n",
            " 13  13      291 non-null    float64\n",
            " 14  14      291 non-null    float64\n",
            " 15  15      291 non-null    float64\n",
            " 16  16      291 non-null    float64\n",
            " 17  17      291 non-null    float64\n",
            " 18  18      291 non-null    float64\n",
            " 19  19      291 non-null    float64\n",
            " 20  20      291 non-null    float64\n",
            " 21  21      291 non-null    float64\n",
            " 22  22      291 non-null    float64\n",
            " 23  23      291 non-null    float64\n",
            " 24  24      291 non-null    float64\n",
            " 25  25      291 non-null    float64\n",
            " 26  26      291 non-null    float64\n",
            " 27  27      291 non-null    float64\n",
            " 28  28      291 non-null    float64\n",
            " 29  29      291 non-null    float64\n",
            "dtypes: float64(30)\n",
            "memory usage: 68.3 KB\n"
          ]
        }
      ]
    },
    {
      "cell_type": "code",
      "source": [
        "df_normal.shape"
      ],
      "metadata": {
        "colab": {
          "base_uri": "https://localhost:8080/"
        },
        "id": "PCm12raQSfGQ",
        "outputId": "5cf59cda-3f55-432e-ff96-8f062698d77b"
      },
      "execution_count": 25,
      "outputs": [
        {
          "output_type": "execute_result",
          "data": {
            "text/plain": [
              "(291, 30)"
            ]
          },
          "metadata": {},
          "execution_count": 25
        }
      ]
    },
    {
      "cell_type": "markdown",
      "source": [
        "# Chuẩn bị dữ liệu đào tạo\n",
        "https://www.kaggle.com/code/parthsuresh/binary-classifier-using-keras-97-98-accuracy/notebook"
      ],
      "metadata": {
        "id": "3dBGAShA0oAM"
      }
    },
    {
      "cell_type": "markdown",
      "source": [
        "Tạo dữ liệu tổng"
      ],
      "metadata": {
        "id": "ylndcDTyTT-f"
      }
    },
    {
      "cell_type": "code",
      "source": [
        "type(df_normal.values)"
      ],
      "metadata": {
        "colab": {
          "base_uri": "https://localhost:8080/"
        },
        "id": "XLEuYwRcT4Kt",
        "outputId": "42aea02d-319d-42be-a70d-d76385d994f1"
      },
      "execution_count": 26,
      "outputs": [
        {
          "output_type": "execute_result",
          "data": {
            "text/plain": [
              "numpy.ndarray"
            ]
          },
          "metadata": {},
          "execution_count": 26
        }
      ]
    },
    {
      "cell_type": "code",
      "source": [
        "all_data = np.concatenate([df_normal.values, df_damag.values])"
      ],
      "metadata": {
        "id": "LJ9PMFUn0wzT"
      },
      "execution_count": 27,
      "outputs": []
    },
    {
      "cell_type": "code",
      "source": [
        "all_data.shape"
      ],
      "metadata": {
        "colab": {
          "base_uri": "https://localhost:8080/"
        },
        "id": "uClY1NfhUC_9",
        "outputId": "03c86096-ef60-458e-9838-3a1aef3866ae"
      },
      "execution_count": 28,
      "outputs": [
        {
          "output_type": "execute_result",
          "data": {
            "text/plain": [
              "(580, 30)"
            ]
          },
          "metadata": {},
          "execution_count": 28
        }
      ]
    },
    {
      "cell_type": "code",
      "source": [
        "Y_normal = np.ones(df_normal.shape[0])\n",
        "Y_damag =  np.zeros(df_damag.shape[0])\n",
        "Y_all = np.concatenate([Y_normal, Y_damag])\n",
        "Y_all.shape"
      ],
      "metadata": {
        "colab": {
          "base_uri": "https://localhost:8080/"
        },
        "id": "abrWulw9xBG_",
        "outputId": "9b51604c-3c4d-420a-dc80-30e1e4945581"
      },
      "execution_count": 33,
      "outputs": [
        {
          "output_type": "execute_result",
          "data": {
            "text/plain": [
              "(580,)"
            ]
          },
          "metadata": {},
          "execution_count": 33
        }
      ]
    },
    {
      "cell_type": "code",
      "source": [
        "Y_all"
      ],
      "metadata": {
        "colab": {
          "base_uri": "https://localhost:8080/"
        },
        "id": "FmAcrgUmxnen",
        "outputId": "37fc375a-18e8-49a4-8499-9e199e874777"
      },
      "execution_count": 34,
      "outputs": [
        {
          "output_type": "execute_result",
          "data": {
            "text/plain": [
              "array([1., 1., 1., 1., 1., 1., 1., 1., 1., 1., 1., 1., 1., 1., 1., 1., 1.,\n",
              "       1., 1., 1., 1., 1., 1., 1., 1., 1., 1., 1., 1., 1., 1., 1., 1., 1.,\n",
              "       1., 1., 1., 1., 1., 1., 1., 1., 1., 1., 1., 1., 1., 1., 1., 1., 1.,\n",
              "       1., 1., 1., 1., 1., 1., 1., 1., 1., 1., 1., 1., 1., 1., 1., 1., 1.,\n",
              "       1., 1., 1., 1., 1., 1., 1., 1., 1., 1., 1., 1., 1., 1., 1., 1., 1.,\n",
              "       1., 1., 1., 1., 1., 1., 1., 1., 1., 1., 1., 1., 1., 1., 1., 1., 1.,\n",
              "       1., 1., 1., 1., 1., 1., 1., 1., 1., 1., 1., 1., 1., 1., 1., 1., 1.,\n",
              "       1., 1., 1., 1., 1., 1., 1., 1., 1., 1., 1., 1., 1., 1., 1., 1., 1.,\n",
              "       1., 1., 1., 1., 1., 1., 1., 1., 1., 1., 1., 1., 1., 1., 1., 1., 1.,\n",
              "       1., 1., 1., 1., 1., 1., 1., 1., 1., 1., 1., 1., 1., 1., 1., 1., 1.,\n",
              "       1., 1., 1., 1., 1., 1., 1., 1., 1., 1., 1., 1., 1., 1., 1., 1., 1.,\n",
              "       1., 1., 1., 1., 1., 1., 1., 1., 1., 1., 1., 1., 1., 1., 1., 1., 1.,\n",
              "       1., 1., 1., 1., 1., 1., 1., 1., 1., 1., 1., 1., 1., 1., 1., 1., 1.,\n",
              "       1., 1., 1., 1., 1., 1., 1., 1., 1., 1., 1., 1., 1., 1., 1., 1., 1.,\n",
              "       1., 1., 1., 1., 1., 1., 1., 1., 1., 1., 1., 1., 1., 1., 1., 1., 1.,\n",
              "       1., 1., 1., 1., 1., 1., 1., 1., 1., 1., 1., 1., 1., 1., 1., 1., 1.,\n",
              "       1., 1., 1., 1., 1., 1., 1., 1., 1., 1., 1., 1., 1., 1., 1., 1., 1.,\n",
              "       1., 1., 0., 0., 0., 0., 0., 0., 0., 0., 0., 0., 0., 0., 0., 0., 0.,\n",
              "       0., 0., 0., 0., 0., 0., 0., 0., 0., 0., 0., 0., 0., 0., 0., 0., 0.,\n",
              "       0., 0., 0., 0., 0., 0., 0., 0., 0., 0., 0., 0., 0., 0., 0., 0., 0.,\n",
              "       0., 0., 0., 0., 0., 0., 0., 0., 0., 0., 0., 0., 0., 0., 0., 0., 0.,\n",
              "       0., 0., 0., 0., 0., 0., 0., 0., 0., 0., 0., 0., 0., 0., 0., 0., 0.,\n",
              "       0., 0., 0., 0., 0., 0., 0., 0., 0., 0., 0., 0., 0., 0., 0., 0., 0.,\n",
              "       0., 0., 0., 0., 0., 0., 0., 0., 0., 0., 0., 0., 0., 0., 0., 0., 0.,\n",
              "       0., 0., 0., 0., 0., 0., 0., 0., 0., 0., 0., 0., 0., 0., 0., 0., 0.,\n",
              "       0., 0., 0., 0., 0., 0., 0., 0., 0., 0., 0., 0., 0., 0., 0., 0., 0.,\n",
              "       0., 0., 0., 0., 0., 0., 0., 0., 0., 0., 0., 0., 0., 0., 0., 0., 0.,\n",
              "       0., 0., 0., 0., 0., 0., 0., 0., 0., 0., 0., 0., 0., 0., 0., 0., 0.,\n",
              "       0., 0., 0., 0., 0., 0., 0., 0., 0., 0., 0., 0., 0., 0., 0., 0., 0.,\n",
              "       0., 0., 0., 0., 0., 0., 0., 0., 0., 0., 0., 0., 0., 0., 0., 0., 0.,\n",
              "       0., 0., 0., 0., 0., 0., 0., 0., 0., 0., 0., 0., 0., 0., 0., 0., 0.,\n",
              "       0., 0., 0., 0., 0., 0., 0., 0., 0., 0., 0., 0., 0., 0., 0., 0., 0.,\n",
              "       0., 0., 0., 0., 0., 0., 0., 0., 0., 0., 0., 0., 0., 0., 0., 0., 0.,\n",
              "       0., 0., 0., 0., 0., 0., 0., 0., 0., 0., 0., 0., 0., 0., 0., 0., 0.,\n",
              "       0., 0.])"
            ]
          },
          "metadata": {},
          "execution_count": 34
        }
      ]
    },
    {
      "cell_type": "markdown",
      "source": [
        "Chia dữ liệu thành các tập train, test"
      ],
      "metadata": {
        "id": "S7JN2vQ2x8zX"
      }
    },
    {
      "cell_type": "code",
      "source": [
        "X_train, X_test, y_train, y_test = train_test_split(all_data, Y_all, test_size=0.2, random_state=0)"
      ],
      "metadata": {
        "id": "vlyvWyBPyDnV"
      },
      "execution_count": 38,
      "outputs": []
    },
    {
      "cell_type": "code",
      "source": [
        "y_test"
      ],
      "metadata": {
        "colab": {
          "base_uri": "https://localhost:8080/"
        },
        "id": "_1pxtEBmyNiP",
        "outputId": "bd0b158c-c57f-4716-ce46-393393926b19"
      },
      "execution_count": 39,
      "outputs": [
        {
          "output_type": "execute_result",
          "data": {
            "text/plain": [
              "array([0., 0., 1., 0., 0., 0., 1., 0., 1., 0., 1., 1., 0., 1., 1., 0., 0.,\n",
              "       0., 1., 1., 1., 0., 0., 0., 0., 1., 1., 0., 0., 0., 1., 1., 0., 0.,\n",
              "       0., 0., 1., 0., 1., 0., 1., 0., 0., 0., 1., 0., 1., 0., 0., 0., 1.,\n",
              "       0., 1., 0., 0., 0., 1., 1., 1., 0., 0., 0., 1., 1., 1., 1., 0., 0.,\n",
              "       0., 1., 1., 1., 0., 0., 1., 1., 1., 0., 0., 1., 0., 0., 1., 1., 0.,\n",
              "       0., 1., 1., 0., 1., 0., 0., 0., 1., 0., 1., 1., 1., 1., 1., 1., 0.,\n",
              "       1., 0., 0., 0., 0., 1., 1., 0., 0., 1., 1., 1., 0., 0.])"
            ]
          },
          "metadata": {},
          "execution_count": 39
        }
      ]
    },
    {
      "cell_type": "markdown",
      "source": [
        "Xây dựng baseline model"
      ],
      "metadata": {
        "id": "QVvIK8gcyWEN"
      }
    },
    {
      "cell_type": "code",
      "source": [
        "model = keras.Sequential([\n",
        "    keras.layers.Flatten(input_shape=(30,)),\n",
        "    keras.layers.Dense(10, activation=tf.nn.relu),\t  \n",
        "    keras.layers.Dense(1, activation=tf.nn.sigmoid),\n",
        "])"
      ],
      "metadata": {
        "id": "iwVPYdClyY_W"
      },
      "execution_count": 84,
      "outputs": []
    },
    {
      "cell_type": "markdown",
      "source": [
        "Build, complile model"
      ],
      "metadata": {
        "id": "Q7iPgC4Pyz-_"
      }
    },
    {
      "cell_type": "code",
      "source": [
        "model.build()\n",
        "model.summary()"
      ],
      "metadata": {
        "colab": {
          "base_uri": "https://localhost:8080/"
        },
        "id": "tSSZOPlDy7eX",
        "outputId": "28076e2c-f92b-4242-e073-2ef38101b733"
      },
      "execution_count": 85,
      "outputs": [
        {
          "output_type": "stream",
          "name": "stdout",
          "text": [
            "Model: \"sequential_5\"\n",
            "_________________________________________________________________\n",
            " Layer (type)                Output Shape              Param #   \n",
            "=================================================================\n",
            " flatten_5 (Flatten)         (None, 30)                0         \n",
            "                                                                 \n",
            " dense_10 (Dense)            (None, 10)                310       \n",
            "                                                                 \n",
            " dense_11 (Dense)            (None, 1)                 11        \n",
            "                                                                 \n",
            "=================================================================\n",
            "Total params: 321\n",
            "Trainable params: 321\n",
            "Non-trainable params: 0\n",
            "_________________________________________________________________\n"
          ]
        }
      ]
    },
    {
      "cell_type": "code",
      "source": [
        "model.compile(optimizer='adam',\n",
        "              loss='binary_crossentropy',\n",
        "              metrics=['accuracy'])\n",
        "\n"
      ],
      "metadata": {
        "id": "4G_V5ny5y5Vm"
      },
      "execution_count": 86,
      "outputs": []
    },
    {
      "cell_type": "markdown",
      "source": [
        "Train model"
      ],
      "metadata": {
        "id": "_I979gbMzELP"
      }
    },
    {
      "cell_type": "code",
      "source": [
        "hist = model.fit(X_train, y_train, epochs=50, batch_size=1, validation_data=(X_test, y_test))\n"
      ],
      "metadata": {
        "colab": {
          "base_uri": "https://localhost:8080/"
        },
        "id": "WEsJYdG9zGNm",
        "outputId": "1d06bed9-4ba4-453c-ca71-de8b595c0b1a"
      },
      "execution_count": 87,
      "outputs": [
        {
          "output_type": "stream",
          "name": "stdout",
          "text": [
            "Epoch 1/50\n",
            "464/464 [==============================] - 1s 2ms/step - loss: 0.6022 - accuracy: 0.6724 - val_loss: 0.5606 - val_accuracy: 0.7241\n",
            "Epoch 2/50\n",
            "464/464 [==============================] - 1s 2ms/step - loss: 0.5661 - accuracy: 0.7263 - val_loss: 0.5408 - val_accuracy: 0.7500\n",
            "Epoch 3/50\n",
            "464/464 [==============================] - 1s 2ms/step - loss: 0.5446 - accuracy: 0.7500 - val_loss: 0.5215 - val_accuracy: 0.7759\n",
            "Epoch 4/50\n",
            "464/464 [==============================] - 1s 2ms/step - loss: 0.5307 - accuracy: 0.7500 - val_loss: 0.5051 - val_accuracy: 0.8103\n",
            "Epoch 5/50\n",
            "464/464 [==============================] - 1s 2ms/step - loss: 0.5176 - accuracy: 0.7543 - val_loss: 0.4976 - val_accuracy: 0.7931\n",
            "Epoch 6/50\n",
            "464/464 [==============================] - 1s 2ms/step - loss: 0.5076 - accuracy: 0.7802 - val_loss: 0.4845 - val_accuracy: 0.8103\n",
            "Epoch 7/50\n",
            "464/464 [==============================] - 1s 2ms/step - loss: 0.4949 - accuracy: 0.7759 - val_loss: 0.4762 - val_accuracy: 0.8017\n",
            "Epoch 8/50\n",
            "464/464 [==============================] - 1s 2ms/step - loss: 0.4874 - accuracy: 0.7823 - val_loss: 0.4671 - val_accuracy: 0.8017\n",
            "Epoch 9/50\n",
            "464/464 [==============================] - 1s 2ms/step - loss: 0.4801 - accuracy: 0.7996 - val_loss: 0.4616 - val_accuracy: 0.7931\n",
            "Epoch 10/50\n",
            "464/464 [==============================] - 1s 2ms/step - loss: 0.4701 - accuracy: 0.7866 - val_loss: 0.4524 - val_accuracy: 0.8103\n",
            "Epoch 11/50\n",
            "464/464 [==============================] - 1s 2ms/step - loss: 0.4624 - accuracy: 0.7931 - val_loss: 0.4403 - val_accuracy: 0.8190\n",
            "Epoch 12/50\n",
            "464/464 [==============================] - 1s 2ms/step - loss: 0.4561 - accuracy: 0.7996 - val_loss: 0.4460 - val_accuracy: 0.8190\n",
            "Epoch 13/50\n",
            "464/464 [==============================] - 1s 2ms/step - loss: 0.4509 - accuracy: 0.8190 - val_loss: 0.4347 - val_accuracy: 0.8276\n",
            "Epoch 14/50\n",
            "464/464 [==============================] - 1s 2ms/step - loss: 0.4422 - accuracy: 0.8060 - val_loss: 0.4300 - val_accuracy: 0.8276\n",
            "Epoch 15/50\n",
            "464/464 [==============================] - 1s 2ms/step - loss: 0.4336 - accuracy: 0.8060 - val_loss: 0.4196 - val_accuracy: 0.8190\n",
            "Epoch 16/50\n",
            "464/464 [==============================] - 1s 2ms/step - loss: 0.4285 - accuracy: 0.8190 - val_loss: 0.4235 - val_accuracy: 0.8276\n",
            "Epoch 17/50\n",
            "464/464 [==============================] - 1s 2ms/step - loss: 0.4191 - accuracy: 0.8082 - val_loss: 0.4349 - val_accuracy: 0.8190\n",
            "Epoch 18/50\n",
            "464/464 [==============================] - 1s 2ms/step - loss: 0.4183 - accuracy: 0.8233 - val_loss: 0.4067 - val_accuracy: 0.8448\n",
            "Epoch 19/50\n",
            "464/464 [==============================] - 1s 2ms/step - loss: 0.4127 - accuracy: 0.8276 - val_loss: 0.4165 - val_accuracy: 0.8362\n",
            "Epoch 20/50\n",
            "464/464 [==============================] - 1s 2ms/step - loss: 0.4030 - accuracy: 0.8319 - val_loss: 0.4136 - val_accuracy: 0.8621\n",
            "Epoch 21/50\n",
            "464/464 [==============================] - 1s 2ms/step - loss: 0.4004 - accuracy: 0.8362 - val_loss: 0.4039 - val_accuracy: 0.8621\n",
            "Epoch 22/50\n",
            "464/464 [==============================] - 1s 2ms/step - loss: 0.3935 - accuracy: 0.8448 - val_loss: 0.3991 - val_accuracy: 0.8534\n",
            "Epoch 23/50\n",
            "464/464 [==============================] - 1s 2ms/step - loss: 0.3914 - accuracy: 0.8534 - val_loss: 0.3939 - val_accuracy: 0.8707\n",
            "Epoch 24/50\n",
            "464/464 [==============================] - 1s 2ms/step - loss: 0.3800 - accuracy: 0.8297 - val_loss: 0.4046 - val_accuracy: 0.8362\n",
            "Epoch 25/50\n",
            "464/464 [==============================] - 1s 2ms/step - loss: 0.3774 - accuracy: 0.8470 - val_loss: 0.3925 - val_accuracy: 0.8534\n",
            "Epoch 26/50\n",
            "464/464 [==============================] - 1s 2ms/step - loss: 0.3777 - accuracy: 0.8470 - val_loss: 0.3891 - val_accuracy: 0.8621\n",
            "Epoch 27/50\n",
            "464/464 [==============================] - 1s 2ms/step - loss: 0.3658 - accuracy: 0.8513 - val_loss: 0.3871 - val_accuracy: 0.8534\n",
            "Epoch 28/50\n",
            "464/464 [==============================] - 1s 2ms/step - loss: 0.3691 - accuracy: 0.8556 - val_loss: 0.3837 - val_accuracy: 0.8621\n",
            "Epoch 29/50\n",
            "464/464 [==============================] - 1s 2ms/step - loss: 0.3639 - accuracy: 0.8513 - val_loss: 0.3792 - val_accuracy: 0.8707\n",
            "Epoch 30/50\n",
            "464/464 [==============================] - 1s 2ms/step - loss: 0.3618 - accuracy: 0.8513 - val_loss: 0.3841 - val_accuracy: 0.8362\n",
            "Epoch 31/50\n",
            "464/464 [==============================] - 1s 2ms/step - loss: 0.3518 - accuracy: 0.8578 - val_loss: 0.3858 - val_accuracy: 0.8534\n",
            "Epoch 32/50\n",
            "464/464 [==============================] - 1s 2ms/step - loss: 0.3486 - accuracy: 0.8578 - val_loss: 0.3867 - val_accuracy: 0.8448\n",
            "Epoch 33/50\n",
            "464/464 [==============================] - 1s 2ms/step - loss: 0.3463 - accuracy: 0.8599 - val_loss: 0.3724 - val_accuracy: 0.8534\n",
            "Epoch 34/50\n",
            "464/464 [==============================] - 1s 2ms/step - loss: 0.3430 - accuracy: 0.8621 - val_loss: 0.3709 - val_accuracy: 0.8534\n",
            "Epoch 35/50\n",
            "464/464 [==============================] - 1s 2ms/step - loss: 0.3358 - accuracy: 0.8664 - val_loss: 0.3717 - val_accuracy: 0.8448\n",
            "Epoch 36/50\n",
            "464/464 [==============================] - 1s 2ms/step - loss: 0.3368 - accuracy: 0.8642 - val_loss: 0.3651 - val_accuracy: 0.8534\n",
            "Epoch 37/50\n",
            "464/464 [==============================] - 1s 2ms/step - loss: 0.3359 - accuracy: 0.8664 - val_loss: 0.3661 - val_accuracy: 0.8621\n",
            "Epoch 38/50\n",
            "464/464 [==============================] - 1s 2ms/step - loss: 0.3310 - accuracy: 0.8685 - val_loss: 0.3724 - val_accuracy: 0.8534\n",
            "Epoch 39/50\n",
            "464/464 [==============================] - 1s 2ms/step - loss: 0.3289 - accuracy: 0.8750 - val_loss: 0.3582 - val_accuracy: 0.8534\n",
            "Epoch 40/50\n",
            "464/464 [==============================] - 1s 2ms/step - loss: 0.3256 - accuracy: 0.8836 - val_loss: 0.3602 - val_accuracy: 0.8621\n",
            "Epoch 41/50\n",
            "464/464 [==============================] - 1s 2ms/step - loss: 0.3224 - accuracy: 0.8772 - val_loss: 0.3724 - val_accuracy: 0.8534\n",
            "Epoch 42/50\n",
            "464/464 [==============================] - 1s 2ms/step - loss: 0.3176 - accuracy: 0.8772 - val_loss: 0.3555 - val_accuracy: 0.8534\n",
            "Epoch 43/50\n",
            "464/464 [==============================] - 1s 2ms/step - loss: 0.3127 - accuracy: 0.8836 - val_loss: 0.3709 - val_accuracy: 0.8621\n",
            "Epoch 44/50\n",
            "464/464 [==============================] - 1s 2ms/step - loss: 0.3111 - accuracy: 0.8793 - val_loss: 0.3575 - val_accuracy: 0.8534\n",
            "Epoch 45/50\n",
            "464/464 [==============================] - 1s 2ms/step - loss: 0.3058 - accuracy: 0.8901 - val_loss: 0.3531 - val_accuracy: 0.8534\n",
            "Epoch 46/50\n",
            "464/464 [==============================] - 1s 2ms/step - loss: 0.3077 - accuracy: 0.8922 - val_loss: 0.3491 - val_accuracy: 0.8448\n",
            "Epoch 47/50\n",
            "464/464 [==============================] - 1s 2ms/step - loss: 0.3079 - accuracy: 0.8772 - val_loss: 0.3563 - val_accuracy: 0.8534\n",
            "Epoch 48/50\n",
            "464/464 [==============================] - 1s 2ms/step - loss: 0.3073 - accuracy: 0.8815 - val_loss: 0.3523 - val_accuracy: 0.8448\n",
            "Epoch 49/50\n",
            "464/464 [==============================] - 1s 2ms/step - loss: 0.3032 - accuracy: 0.8858 - val_loss: 0.3474 - val_accuracy: 0.8448\n",
            "Epoch 50/50\n",
            "464/464 [==============================] - 1s 2ms/step - loss: 0.3027 - accuracy: 0.8879 - val_loss: 0.3548 - val_accuracy: 0.8448\n"
          ]
        }
      ]
    },
    {
      "cell_type": "code",
      "source": [
        "print(hist.history.keys())"
      ],
      "metadata": {
        "colab": {
          "base_uri": "https://localhost:8080/"
        },
        "id": "lvl2yOg4zf5m",
        "outputId": "2ef6cf6b-0533-4323-ecf5-ce2a18723b17"
      },
      "execution_count": 88,
      "outputs": [
        {
          "output_type": "stream",
          "name": "stdout",
          "text": [
            "dict_keys(['loss', 'accuracy', 'val_loss', 'val_accuracy'])\n"
          ]
        }
      ]
    },
    {
      "cell_type": "markdown",
      "source": [
        "Vẽ đồ thị loss, accuracy"
      ],
      "metadata": {
        "id": "N0sr1Fgnzqsl"
      }
    },
    {
      "cell_type": "code",
      "source": [
        "# summarize history for accuracy\n",
        "plt.plot(hist.history['accuracy'])\n",
        "plt.plot(hist.history['val_accuracy'])\n",
        "plt.title('model accuracy')\n",
        "plt.ylabel('accuracy')\n",
        "plt.xlabel('epoch')\n",
        "plt.legend(['train', 'test'], loc='upper left')"
      ],
      "metadata": {
        "colab": {
          "base_uri": "https://localhost:8080/",
          "height": 312
        },
        "id": "6xxeh0UR0jO_",
        "outputId": "dd051825-d8b4-4aff-d3be-e5fbf4651802"
      },
      "execution_count": 89,
      "outputs": [
        {
          "output_type": "execute_result",
          "data": {
            "text/plain": [
              "<matplotlib.legend.Legend at 0x7f8a5d90cdd0>"
            ]
          },
          "metadata": {},
          "execution_count": 89
        },
        {
          "output_type": "display_data",
          "data": {
            "text/plain": [
              "<Figure size 432x288 with 1 Axes>"
            ],
            "image/png": "[encoded data removed]"
          },
          "metadata": {
            "needs_background": "light"
          }
        }
      ]
    },
    {
      "cell_type": "code",
      "source": [
        "plt.plot(hist.history['loss'])\n",
        "plt.plot(hist.history['val_loss'])\n",
        "plt.title('model loss')\n",
        "plt.ylabel('loss')\n",
        "plt.xlabel('epoch')\n",
        "plt.legend(['train', 'test'], loc='upper left')"
      ],
      "metadata": {
        "colab": {
          "base_uri": "https://localhost:8080/",
          "height": 312
        },
        "id": "hMiuv-_20nk2",
        "outputId": "f05b1122-c718-4446-f32a-2c21376b6102"
      },
      "execution_count": 90,
      "outputs": [
        {
          "output_type": "execute_result",
          "data": {
            "text/plain": [
              "<matplotlib.legend.Legend at 0x7f8a5d933c90>"
            ]
          },
          "metadata": {},
          "execution_count": 90
        },
        {
          "output_type": "display_data",
          "data": {
            "text/plain": [
              "<Figure size 432x288 with 1 Axes>"
            ],
            "image/png": "[encoded data removed]"
          },
          "metadata": {
            "needs_background": "light"
          }
        }
      ]
    },
    {
      "cell_type": "code",
      "source": [
        "test_loss, test_acc = model.evaluate(X_test, y_test)"
      ],
      "metadata": {
        "colab": {
          "base_uri": "https://localhost:8080/"
        },
        "id": "kykzGqISzKF3",
        "outputId": "e8a03f4b-7e5e-4493-d852-915f31341013"
      },
      "execution_count": 91,
      "outputs": [
        {
          "output_type": "stream",
          "name": "stdout",
          "text": [
            "4/4 [==============================] - 0s 4ms/step - loss: 0.3548 - accuracy: 0.8448\n"
          ]
        }
      ]
    },
    {
      "cell_type": "markdown",
      "source": [
        "Thử dự đoán 1 kết quả lấy trong tập z24_01"
      ],
      "metadata": {
        "id": "jNtB5oDC1WpO"
      }
    },
    {
      "cell_type": "code",
      "source": [
        "x_1 = [0.17644537264039523,-1.7914511851776163,0.20397587340085682,-1.7611032513544493,0.30335108027648106,-1.170955078904942,0.4815675607773132,-0.3769442707375599,0.5293446574273206,0.09682858795264085,0.31748191727933534,0.2424927083890882,0.019134891255532114,0.18809748811581697,-0.15442541906424853,0.14778794409045629,-0.18614266471773722,0.2097416099489675,-0.14005918679594986,0.3796556344901386,-0.08026914660934377,0.4941631383260321,0.02101999513076799,0.5235397716339107,0.07123522093060417,0.4304348620919603,0.09631571340665866,0.25886516846104374,0.05109819361319568,0.08864314660891977]\n",
        "y_pred = model.predict([x_1])\n",
        "y_pred"
      ],
      "metadata": {
        "colab": {
          "base_uri": "https://localhost:8080/"
        },
        "id": "sfCJNvFg1532",
        "outputId": "97fae5b0-4672-4f34-a0b6-99b9e89bfaa7"
      },
      "execution_count": 97,
      "outputs": [
        {
          "output_type": "execute_result",
          "data": {
            "text/plain": [
              "array([[0.4813641]], dtype=float32)"
            ]
          },
          "metadata": {},
          "execution_count": 97
        }
      ]
    },
    {
      "cell_type": "markdown",
      "source": [
        "Kết quả nhận dạng"
      ],
      "metadata": {
        "id": "oTndC60a5KLP"
      }
    },
    {
      "cell_type": "code",
      "source": [
        "\"damag\" if y_pred[0][0]<0.5 else \"normal\""
      ],
      "metadata": {
        "colab": {
          "base_uri": "https://localhost:8080/",
          "height": 35
        },
        "id": "0O6zcZGh5MP-",
        "outputId": "c520417d-1bc6-4194-d650-7358607a176c"
      },
      "execution_count": 98,
      "outputs": [
        {
          "output_type": "execute_result",
          "data": {
            "text/plain": [
              "'damag'"
            ],
            "application/vnd.google.colaboratory.intrinsic+json": {
              "type": "string"
            }
          },
          "metadata": {},
          "execution_count": 98
        }
      ]
    },
    {
      "cell_type": "markdown",
      "source": [
        "Thử dự đoán 1 kết quả lấy trong tập z24_12"
      ],
      "metadata": {
        "id": "OO1V3Hit2h4N"
      }
    },
    {
      "cell_type": "code",
      "source": [
        "sx_2 = [0.2835897113088593,-1.7148511361538081,0.5432986638231844,-2.046902661597781,0.6598758563566534,-1.5044789374167014,0.6446912300788621,-0.5676157122059278,0.5031927522818574,0.11481349304288965,0.06090936042060972,0.2684891757786505,-0.5281901898330873,0.14069628323834343,-0.9734340296217439,-0.01412047642339844,-1.0832985901855652,-0.009139680332590851,-0.8463876466312291,0.16337271835828593,-0.43287623541608294,0.34813996014236825,-0.13849620608795407,0.41923173407941583,0.001883041318729983,0.3294143922472575,0.017723714274308935,0.1724690137913958,0.0035751790393603817,0.049220954392151565]\n",
        "y_pred = model.predict([sx_2])\n",
        "y_pred"
      ],
      "metadata": {
        "colab": {
          "base_uri": "https://localhost:8080/"
        },
        "id": "LrvVPX8f23bh",
        "outputId": "a1acfde4-5d98-4496-df26-c12a67c4bc19"
      },
      "execution_count": 95,
      "outputs": [
        {
          "output_type": "execute_result",
          "data": {
            "text/plain": [
              "array([[0.9829116]], dtype=float32)"
            ]
          },
          "metadata": {},
          "execution_count": 95
        }
      ]
    },
    {
      "cell_type": "code",
      "source": [
        "\"damag\" if y_pred[0][0]<0.5 else \"normal\""
      ],
      "metadata": {
        "colab": {
          "base_uri": "https://localhost:8080/",
          "height": 35
        },
        "id": "AiQVFCMT5EdV",
        "outputId": "dd361372-31bb-4c2d-a828-c14d828d5ae8"
      },
      "execution_count": 96,
      "outputs": [
        {
          "output_type": "execute_result",
          "data": {
            "text/plain": [
              "'normal'"
            ],
            "application/vnd.google.colaboratory.intrinsic+json": {
              "type": "string"
            }
          },
          "metadata": {},
          "execution_count": 96
        }
      ]
    }
  ]
}