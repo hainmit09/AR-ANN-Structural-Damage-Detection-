{
  "nbformat": 4,
  "nbformat_minor": 0,
  "metadata": {
    "colab": {
      "name": "DA trong lĩnh vực marketing.ipynb",
      "provenance": [],
      "collapsed_sections": [],
      "authorship_tag": "ABX9TyMVJDY6wEx/yOAucOOXKV7x",
      "include_colab_link": true
    },
    "kernelspec": {
      "name": "python3",
      "display_name": "Python 3"
    },
    "language_info": {
      "name": "python"
    }
  },
  "cells": [
    {
      "cell_type": "markdown",
      "metadata": {
        "id": "view-in-github",
        "colab_type": "text"
      },
      "source": [
        "<a href=\"https://colab.research.google.com/github/hainmit09/AR-ANN-Structural-Damage-Detection-/blob/main/DA_trong_l%C4%A9nh_v%E1%BB%B1c_marketing.ipynb\" target=\"_parent\"><img src=\"https://colab.research.google.com/assets/colab-badge.svg\" alt=\"Open In Colab\"/></a>"
      ]
    },
    {
      "cell_type": "markdown",
      "source": [
        "#1. Nội dung học.\n",
        "- DA trong marketing\n",
        "- Các thuộc tính dữ liệu cần thiết của dữ liệu trong bài toán DA\n",
        "- Các yêu cầu phần tích trong bài toán DA\n",
        "- Các dạng báo cáo cần thiết trong bài toán DA\n",
        "- Bài toán cụ thể"
      ],
      "metadata": {
        "id": "yLKFWsClQuU3"
      }
    },
    {
      "cell_type": "markdown",
      "source": [
        ""
      ],
      "metadata": {
        "id": "PPrUce3qLFFB"
      }
    },
    {
      "cell_type": "markdown",
      "source": [
        "#2. DA trong lĩnh vực marketing\n",
        "##2.1. Yêu cầu của DA trong marketing.\n",
        "\n",
        "Trong lĩnh vực marketing, việc ứng dụng phân tích dữ liệu là rất quan trọng nhằm hiểu được tác động của tiếp thị, dự đoán xu hướng tiếp thị, hành vi người dùng, tối ưu hóa trải nghiệm người dùng, thúc đẩy doanh số bán hàng.\n",
        "\n",
        "Có 2 yêu cầu chính của DA trong marketing\n",
        "- Đo lường hiệu quả của hoạt động tiếp thị của công ty, để đánh giá các nỗ lực tiếp thị của công ty đang hoạt động.\n",
        "- Phân tích điều chỉnh chiển lược tiếp thị, để tăng hiệu quả của các chiến lược tiếp thị.\n",
        "\n",
        "##2.2. Tại sao DA trong marketing lại quan trọng.\n",
        "Phân tích không phải là phần phụ, nó là cách tốt nhất để hiểu được hành trình của khách hàng, tìm ra điều gì hiệu quả trong các chiến dịch tiếp thị. Cụ thể\n",
        "- Định lượng các yêu cầu\n",
        "- Biến dữ liệu thành thông tin.\n",
        "- So sánh và đối chiếu dữ liệu tiếp thị.\n",
        "- Phân tích hiệu quả mục tiêu marketing\n"
      ],
      "metadata": {
        "id": "PswK7C4XVo8E"
      }
    },
    {
      "cell_type": "markdown",
      "source": [
        "#3. Yêu cầu dữ liệu.\n",
        "Để làm DA trong marketing cần có các dữ liệu sau:\n",
        "##3.1. Dữ liệu khách hàng\n",
        "- Nhóm tuổi\n",
        "- Giới tính\n",
        "- Trình độ học vấn\n",
        "- Thu nhập hàng năm\n",
        "- Tình trạng gia đình\n",
        "- Vị trí địa lý\n",
        "\n",
        "##3.2. Dữ liệu lịch sử bán hàng\n",
        "- Mặt hàng.\n",
        "- Thời gian bán.\n",
        "- Địa điểm\n",
        "- Giá bán.\n",
        "- Giảm giá\n",
        "\n",
        "##3.3. Thông tin môi trường.\n",
        "- Thời tiết.\n",
        "- Chỉ số thất nghiệp\n",
        "- Giá các mặt hàng chi phối."
      ],
      "metadata": {
        "id": "puj0UnBaU8vc"
      }
    },
    {
      "cell_type": "markdown",
      "source": [
        "*Chú ý:\n",
        "- Dữ liệu thì có thể có sẵn và được công ty lưu trữ bởi bộ phận data engineer, hoặc không có dữ liệu-> tự đi làm dữ liệu.\n",
        "- Không nên quá cầu toàn về dữ liệu, có đến đâu, phân tích đến đó, sau đó bổ sung và phân tích tiếp\n"
      ],
      "metadata": {
        "id": "3GaTSmNaObf5"
      }
    },
    {
      "cell_type": "markdown",
      "source": [
        ""
      ],
      "metadata": {
        "id": "vCT6n64iRpuN"
      }
    },
    {
      "cell_type": "markdown",
      "source": [
        "#4. Kết quả trả về.\n",
        "#4.1. Dashboard\n",
        "- Dạng ảnh.\n",
        "- Dạng văn bản\n",
        "- Dạng web\n",
        "#4.2. Báo cáo\n",
        "- Dạng file\n",
        "- Dạng trực tuyến."
      ],
      "metadata": {
        "id": "nq80dksEfkfE"
      }
    },
    {
      "cell_type": "markdown",
      "source": [
        "#5. Quy trình thực hiện bài toán DA\n",
        "- Nhận bài toán từ lãnh đạo, hoặc khách hàng hoặc từ các nhóm khác\n",
        "- Xác định phải làm dashboard hay làm report.\n",
        "- Thống nhất được người ra đề bài, hình thức và các thành phần của báo cáo hoặc report.\n",
        "- Chuẩn bị dữ liệu: Đi trao đổi với nhóm data engineer, hoặc có thể tìm kiếm, khảo sát từ các nguồn khác.\n",
        "- Thực hiện công tác phân tích dữ liệu:\n",
        "  + Tổng hợp dữ liệu:\n",
        "  + Làm sạch sạch dữ liệu.\n",
        "  + Thực hiện phân tích.\n",
        "  + Có thể là xây dựng các mô hình dự báo.\n",
        "- Thực hiện xây dựng báo cáo, hoặc dashboard (tùy đầu bài) như đã thống nhất với người ra đề bài."
      ],
      "metadata": {
        "id": "Rcp1eckqQt3J"
      }
    },
    {
      "cell_type": "markdown",
      "source": [
        "#6. Bài toán cụ thể\n"
      ],
      "metadata": {
        "id": "23LVWYHEhZSc"
      }
    },
    {
      "cell_type": "markdown",
      "source": [
        "##6.1. Bài toán được giao\n",
        "- Ngữ cảnh: Các em làm DA cho một công ty bán hàng (hiểu là các em đã biết công ty đó bán những mặt hàng gì, trên những kênh nào):\n",
        "  + Các kênh bán hàng:\n",
        "    + web: Bán hàng qua web.\n",
        "    + store: Bán hàng trực tiếp tại các cửa hàng.\n",
        "    + Deals: Các giao dịch mua theo chương trình giảm giá.\n",
        "    + Catalog: Số lần mua bằng danh mục.\n",
        "  + Dạng mặt hàng thì được chia làm các loại sau:\n",
        "    + Fish: Sản phẩm từ cá.\n",
        "    + Meat: Sản phẩm từ thịt.\n",
        "    + Fruits: Sản phẩm từ trái cây.\n",
        "    + Sweet: Sản phẩm ngọt.\n",
        "    + Wine: Sản phẩm rượu.\n",
        "    + Gold: Sản phẩm vàng.\n",
        "- Giám đốc giao yêu cầu: Sắp đến một đợt đẩy mạnh marketing, thì yêu cầu nhóm kinh doanh phân tích mối liên hệ giữa độ tuổi, trình độ học vấn, các kênh bán hàng. Cụ thể: \n",
        "  + Phân tích so sánh sức mua theo trình độ học vấn\n",
        "  + So sánh sức mua theo tình trạng gia đình\n",
        "  + Tỷ trọng mua hàng trên các kênh bán hàng của công ty.\n",
        "  + So sánh chi tiết tình trạng gia đình trên các loại mặt hàng.\n",
        "  + Yêu cậu kết quả dạng dashboard\n"
      ],
      "metadata": {
        "id": "WkVc3bbyiySM"
      }
    },
    {
      "cell_type": "markdown",
      "source": [
        "# 6.2. Nhóm DA sẽ đề xuất và chốt với người giao đề bài, cái dashboard có những thành phần gì, và cách trình bài.\n",
        "- Phân tích các thành phần báo cáo.\n",
        "  + Phân tích so sánh sức mua theo trình độ học vấn: Biểu đồ đường, hoặc biểu đồ bar. -> Trong trường hợp này là so sánh các phân mục, biểu đồ BAR hợp lý nhất.\n",
        "  + So sánh sức mua theo tình trạng gia đình.->So sánh sức mua theo phân mục->Biểu đồ BAR là hợp lý nhất\n",
        "  + Tỷ trọng mua hàng trên các kênh bán hàng của công ty.-> Biểu đồ hình tròn\n",
        "  + So sánh chi tiết tình trạng gia đình trên các loại mặt hàng.-> Bar Chart.\n",
        "\n",
        "- Bố trí, trình bày, format.\n",
        "->Dashboard dạng web, có hình thức như hình vẽ"
      ],
      "metadata": {
        "id": "zafY8D8mTlJj"
      }
    },
    {
      "cell_type": "markdown",
      "source": [
        "##6.3 Đi xin dữ liệu\n",
        "Được cung cấp dữ liệu khách hàng: https://github.com/hainmit09/DataAnalysis/raw/main/Marketing/marketing_campaign.csv\n",
        "### Các cột\n",
        "- ID: id khách hàng\n",
        "- Year_Birth: Năm sinh khách hàng\n",
        "- Education: Trình độ học vấn\n",
        "- Marital_Status: Tình trạng hôn nhân\n",
        "- Income: Thu nhập hộ gia đình hàng năm của khách hàng\n",
        "- Kidhome: Số trẻ nhỏ trong gia đình hộ khách hàng\n",
        "- Teenhome: Số thanh thiếu niên trong gia đình khách hàng\n",
        "- Dt_Customer: Ngày đăng ký của khách hàng với công ty\n",
        "- Recency: Ngày mua hàng gần nhất\n",
        "- MntWines: Số tiên chi cho các khoản rươu trong 2 năm\n",
        "- MntFruits: Chi tiêu cho hoa quả trong vòng 2 năm\n",
        "- MntMeatProducts: Chi tiêu cho sản phẩm thịt trong vòng 2 năm\n",
        "- MntFishProducts: Chi tiêu cho các sản phẩm cá trong vòng 2 năm\n",
        "- MntSweetProducts: Chi tiêu cho các sản phẩm ngon trong vòng 2 năm.\n",
        "- MntGoldProds: Chi tiêu cho các sản phầm vàng trong vòng 2 năm\n",
        "- NumDealsPurchases: số sản phẩm mua qua kênh giảm giá\n",
        "- NumWebPurchases: Số sản phẩm được mua qua kênh web.\n",
        "- NumCatalogPurchases: Số sản phẩm mua qua kênh catalog.\n",
        "- NumStorePurchases: Số sản phẩm mua qua kênh trực tiếp tại các cửa hàng.\n",
        "- Complain: Có phàn nàn trong vòng 2 năm qua không\n",
        "- Country: Quốc gia mà khách hàng ở.\n",
        "- ...."
      ],
      "metadata": {
        "id": "aBLeRZxZhdju"
      }
    },
    {
      "cell_type": "markdown",
      "source": [
        "***Kết luận***: Mình có đủ dữ liệu để phân tích"
      ],
      "metadata": {
        "id": "umxtn7syd63Z"
      }
    },
    {
      "cell_type": "markdown",
      "source": [
        "#7. Thực hiện tính toán"
      ],
      "metadata": {
        "id": "x5CmQRPNH89u"
      }
    },
    {
      "cell_type": "markdown",
      "source": [
        "Import các thư viện cần thiết"
      ],
      "metadata": {
        "id": "IJ1__WI8elWJ"
      }
    },
    {
      "cell_type": "code",
      "execution_count": 23,
      "metadata": {
        "id": "L4kGETpZND4r"
      },
      "outputs": [],
      "source": [
        "import numpy as np\n",
        "import pandas as pd\n",
        "import matplotlib.pyplot as plt\n",
        "import seaborn as sns"
      ]
    },
    {
      "cell_type": "markdown",
      "source": [
        "#  Đọc dữ liệu"
      ],
      "metadata": {
        "id": "mthnr7T9ephp"
      }
    },
    {
      "cell_type": "code",
      "source": [
        "data = pd.read_csv('https://github.com/hainmit09/DataAnalysis/raw/main/Marketing/marketing_campaign.csv',sep = \";\")\n",
        "data.head()"
      ],
      "metadata": {
        "id": "fhJI8whQo91N",
        "colab": {
          "base_uri": "https://localhost:8080/",
          "height": 299
        },
        "outputId": "e2312615-7c9b-4e19-c0f8-9a942cdb6c90"
      },
      "execution_count": 24,
      "outputs": [
        {
          "output_type": "execute_result",
          "data": {
            "text/plain": [
              "     ID  Year_Birth   Education Marital_Status   Income  Kidhome  Teenhome  \\\n",
              "0  5524        1957  Graduation         Single  58138.0        0         0   \n",
              "1  2174        1954  Graduation         Single  46344.0        1         1   \n",
              "2  4141        1965  Graduation       Together  71613.0        0         0   \n",
              "3  6182        1984  Graduation       Together  26646.0        1         0   \n",
              "4  5324        1981         PhD        Married  58293.0        1         0   \n",
              "\n",
              "  Dt_Customer  Recency  MntWines  ...  NumWebVisitsMonth  AcceptedCmp3  \\\n",
              "0  2012-09-04       58       635  ...                  7             0   \n",
              "1  2014-03-08       38        11  ...                  5             0   \n",
              "2  2013-08-21       26       426  ...                  4             0   \n",
              "3  2014-02-10       26        11  ...                  6             0   \n",
              "4  2014-01-19       94       173  ...                  5             0   \n",
              "\n",
              "   AcceptedCmp4  AcceptedCmp5  AcceptedCmp1  AcceptedCmp2  Complain  \\\n",
              "0             0             0             0             0         0   \n",
              "1             0             0             0             0         0   \n",
              "2             0             0             0             0         0   \n",
              "3             0             0             0             0         0   \n",
              "4             0             0             0             0         0   \n",
              "\n",
              "   Z_CostContact  Z_Revenue  Response  \n",
              "0              3         11         1  \n",
              "1              3         11         0  \n",
              "2              3         11         0  \n",
              "3              3         11         0  \n",
              "4              3         11         0  \n",
              "\n",
              "[5 rows x 29 columns]"
            ],
            "text/html": [
              "\n",
              "  <div id=\"df-0f041e8f-9776-42f9-b2ce-d7918b09cb9b\">\n",
              "    <div class=\"colab-df-container\">\n",
              "      <div>\n",
              "<style scoped>\n",
              "    .dataframe tbody tr th:only-of-type {\n",
              "        vertical-align: middle;\n",
              "    }\n",
              "\n",
              "    .dataframe tbody tr th {\n",
              "        vertical-align: top;\n",
              "    }\n",
              "\n",
              "    .dataframe thead th {\n",
              "        text-align: right;\n",
              "    }\n",
              "</style>\n",
              "<table border=\"1\" class=\"dataframe\">\n",
              "  <thead>\n",
              "    <tr style=\"text-align: right;\">\n",
              "      <th></th>\n",
              "      <th>ID</th>\n",
              "      <th>Year_Birth</th>\n",
              "      <th>Education</th>\n",
              "      <th>Marital_Status</th>\n",
              "      <th>Income</th>\n",
              "      <th>Kidhome</th>\n",
              "      <th>Teenhome</th>\n",
              "      <th>Dt_Customer</th>\n",
              "      <th>Recency</th>\n",
              "      <th>MntWines</th>\n",
              "      <th>...</th>\n",
              "      <th>NumWebVisitsMonth</th>\n",
              "      <th>AcceptedCmp3</th>\n",
              "      <th>AcceptedCmp4</th>\n",
              "      <th>AcceptedCmp5</th>\n",
              "      <th>AcceptedCmp1</th>\n",
              "      <th>AcceptedCmp2</th>\n",
              "      <th>Complain</th>\n",
              "      <th>Z_CostContact</th>\n",
              "      <th>Z_Revenue</th>\n",
              "      <th>Response</th>\n",
              "    </tr>\n",
              "  </thead>\n",
              "  <tbody>\n",
              "    <tr>\n",
              "      <th>0</th>\n",
              "      <td>5524</td>\n",
              "      <td>1957</td>\n",
              "      <td>Graduation</td>\n",
              "      <td>Single</td>\n",
              "      <td>58138.0</td>\n",
              "      <td>0</td>\n",
              "      <td>0</td>\n",
              "      <td>2012-09-04</td>\n",
              "      <td>58</td>\n",
              "      <td>635</td>\n",
              "      <td>...</td>\n",
              "      <td>7</td>\n",
              "      <td>0</td>\n",
              "      <td>0</td>\n",
              "      <td>0</td>\n",
              "      <td>0</td>\n",
              "      <td>0</td>\n",
              "      <td>0</td>\n",
              "      <td>3</td>\n",
              "      <td>11</td>\n",
              "      <td>1</td>\n",
              "    </tr>\n",
              "    <tr>\n",
              "      <th>1</th>\n",
              "      <td>2174</td>\n",
              "      <td>1954</td>\n",
              "      <td>Graduation</td>\n",
              "      <td>Single</td>\n",
              "      <td>46344.0</td>\n",
              "      <td>1</td>\n",
              "      <td>1</td>\n",
              "      <td>2014-03-08</td>\n",
              "      <td>38</td>\n",
              "      <td>11</td>\n",
              "      <td>...</td>\n",
              "      <td>5</td>\n",
              "      <td>0</td>\n",
              "      <td>0</td>\n",
              "      <td>0</td>\n",
              "      <td>0</td>\n",
              "      <td>0</td>\n",
              "      <td>0</td>\n",
              "      <td>3</td>\n",
              "      <td>11</td>\n",
              "      <td>0</td>\n",
              "    </tr>\n",
              "    <tr>\n",
              "      <th>2</th>\n",
              "      <td>4141</td>\n",
              "      <td>1965</td>\n",
              "      <td>Graduation</td>\n",
              "      <td>Together</td>\n",
              "      <td>71613.0</td>\n",
              "      <td>0</td>\n",
              "      <td>0</td>\n",
              "      <td>2013-08-21</td>\n",
              "      <td>26</td>\n",
              "      <td>426</td>\n",
              "      <td>...</td>\n",
              "      <td>4</td>\n",
              "      <td>0</td>\n",
              "      <td>0</td>\n",
              "      <td>0</td>\n",
              "      <td>0</td>\n",
              "      <td>0</td>\n",
              "      <td>0</td>\n",
              "      <td>3</td>\n",
              "      <td>11</td>\n",
              "      <td>0</td>\n",
              "    </tr>\n",
              "    <tr>\n",
              "      <th>3</th>\n",
              "      <td>6182</td>\n",
              "      <td>1984</td>\n",
              "      <td>Graduation</td>\n",
              "      <td>Together</td>\n",
              "      <td>26646.0</td>\n",
              "      <td>1</td>\n",
              "      <td>0</td>\n",
              "      <td>2014-02-10</td>\n",
              "      <td>26</td>\n",
              "      <td>11</td>\n",
              "      <td>...</td>\n",
              "      <td>6</td>\n",
              "      <td>0</td>\n",
              "      <td>0</td>\n",
              "      <td>0</td>\n",
              "      <td>0</td>\n",
              "      <td>0</td>\n",
              "      <td>0</td>\n",
              "      <td>3</td>\n",
              "      <td>11</td>\n",
              "      <td>0</td>\n",
              "    </tr>\n",
              "    <tr>\n",
              "      <th>4</th>\n",
              "      <td>5324</td>\n",
              "      <td>1981</td>\n",
              "      <td>PhD</td>\n",
              "      <td>Married</td>\n",
              "      <td>58293.0</td>\n",
              "      <td>1</td>\n",
              "      <td>0</td>\n",
              "      <td>2014-01-19</td>\n",
              "      <td>94</td>\n",
              "      <td>173</td>\n",
              "      <td>...</td>\n",
              "      <td>5</td>\n",
              "      <td>0</td>\n",
              "      <td>0</td>\n",
              "      <td>0</td>\n",
              "      <td>0</td>\n",
              "      <td>0</td>\n",
              "      <td>0</td>\n",
              "      <td>3</td>\n",
              "      <td>11</td>\n",
              "      <td>0</td>\n",
              "    </tr>\n",
              "  </tbody>\n",
              "</table>\n",
              "<p>5 rows × 29 columns</p>\n",
              "</div>\n",
              "      <button class=\"colab-df-convert\" onclick=\"convertToInteractive('df-0f041e8f-9776-42f9-b2ce-d7918b09cb9b')\"\n",
              "              title=\"Convert this dataframe to an interactive table.\"\n",
              "              style=\"display:none;\">\n",
              "        \n",
              "  <svg xmlns=\"http://www.w3.org/2000/svg\" height=\"24px\"viewBox=\"0 0 24 24\"\n",
              "       width=\"24px\">\n",
              "    <path d=\"M0 0h24v24H0V0z\" fill=\"none\"/>\n",
              "    <path d=\"M18.56 5.44l.94 2.06.94-2.06 2.06-.94-2.06-.94-.94-2.06-.94 2.06-2.06.94zm-11 1L8.5 8.5l.94-2.06 2.06-.94-2.06-.94L8.5 2.5l-.94 2.06-2.06.94zm10 10l.94 2.06.94-2.06 2.06-.94-2.06-.94-.94-2.06-.94 2.06-2.06.94z\"/><path d=\"M17.41 7.96l-1.37-1.37c-.4-.4-.92-.59-1.43-.59-.52 0-1.04.2-1.43.59L10.3 9.45l-7.72 7.72c-.78.78-.78 2.05 0 2.83L4 21.41c.39.39.9.59 1.41.59.51 0 1.02-.2 1.41-.59l7.78-7.78 2.81-2.81c.8-.78.8-2.07 0-2.86zM5.41 20L4 18.59l7.72-7.72 1.47 1.35L5.41 20z\"/>\n",
              "  </svg>\n",
              "      </button>\n",
              "      \n",
              "  <style>\n",
              "    .colab-df-container {\n",
              "      display:flex;\n",
              "      flex-wrap:wrap;\n",
              "      gap: 12px;\n",
              "    }\n",
              "\n",
              "    .colab-df-convert {\n",
              "      background-color: #E8F0FE;\n",
              "      border: none;\n",
              "      border-radius: 50%;\n",
              "      cursor: pointer;\n",
              "      display: none;\n",
              "      fill: #1967D2;\n",
              "      height: 32px;\n",
              "      padding: 0 0 0 0;\n",
              "      width: 32px;\n",
              "    }\n",
              "\n",
              "    .colab-df-convert:hover {\n",
              "      background-color: #E2EBFA;\n",
              "      box-shadow: 0px 1px 2px rgba(60, 64, 67, 0.3), 0px 1px 3px 1px rgba(60, 64, 67, 0.15);\n",
              "      fill: #174EA6;\n",
              "    }\n",
              "\n",
              "    [theme=dark] .colab-df-convert {\n",
              "      background-color: #3B4455;\n",
              "      fill: #D2E3FC;\n",
              "    }\n",
              "\n",
              "    [theme=dark] .colab-df-convert:hover {\n",
              "      background-color: #434B5C;\n",
              "      box-shadow: 0px 1px 3px 1px rgba(0, 0, 0, 0.15);\n",
              "      filter: drop-shadow(0px 1px 2px rgba(0, 0, 0, 0.3));\n",
              "      fill: #FFFFFF;\n",
              "    }\n",
              "  </style>\n",
              "\n",
              "      <script>\n",
              "        const buttonEl =\n",
              "          document.querySelector('#df-0f041e8f-9776-42f9-b2ce-d7918b09cb9b button.colab-df-convert');\n",
              "        buttonEl.style.display =\n",
              "          google.colab.kernel.accessAllowed ? 'block' : 'none';\n",
              "\n",
              "        async function convertToInteractive(key) {\n",
              "          const element = document.querySelector('#df-0f041e8f-9776-42f9-b2ce-d7918b09cb9b');\n",
              "          const dataTable =\n",
              "            await google.colab.kernel.invokeFunction('convertToInteractive',\n",
              "                                                     [key], {});\n",
              "          if (!dataTable) return;\n",
              "\n",
              "          const docLinkHtml = 'Like what you see? Visit the ' +\n",
              "            '<a target=\"_blank\" href=https://colab.research.google.com/notebooks/data_table.ipynb>data table notebook</a>'\n",
              "            + ' to learn more about interactive tables.';\n",
              "          element.innerHTML = '';\n",
              "          dataTable['output_type'] = 'display_data';\n",
              "          await google.colab.output.renderOutput(dataTable, element);\n",
              "          const docLink = document.createElement('div');\n",
              "          docLink.innerHTML = docLinkHtml;\n",
              "          element.appendChild(docLink);\n",
              "        }\n",
              "      </script>\n",
              "    </div>\n",
              "  </div>\n",
              "  "
            ]
          },
          "metadata": {},
          "execution_count": 24
        }
      ]
    },
    {
      "cell_type": "code",
      "source": [
        "data.info()"
      ],
      "metadata": {
        "colab": {
          "base_uri": "https://localhost:8080/"
        },
        "id": "81FDzR_ve1vM",
        "outputId": "c14bcc7d-0412-4e3d-f044-b52315b5f9c3"
      },
      "execution_count": 25,
      "outputs": [
        {
          "output_type": "stream",
          "name": "stdout",
          "text": [
            "<class 'pandas.core.frame.DataFrame'>\n",
            "RangeIndex: 2240 entries, 0 to 2239\n",
            "Data columns (total 29 columns):\n",
            " #   Column               Non-Null Count  Dtype  \n",
            "---  ------               --------------  -----  \n",
            " 0   ID                   2240 non-null   int64  \n",
            " 1   Year_Birth           2240 non-null   int64  \n",
            " 2   Education            2240 non-null   object \n",
            " 3   Marital_Status       2240 non-null   object \n",
            " 4   Income               2216 non-null   float64\n",
            " 5   Kidhome              2240 non-null   int64  \n",
            " 6   Teenhome             2240 non-null   int64  \n",
            " 7   Dt_Customer          2240 non-null   object \n",
            " 8   Recency              2240 non-null   int64  \n",
            " 9   MntWines             2240 non-null   int64  \n",
            " 10  MntFruits            2240 non-null   int64  \n",
            " 11  MntMeatProducts      2240 non-null   int64  \n",
            " 12  MntFishProducts      2240 non-null   int64  \n",
            " 13  MntSweetProducts     2240 non-null   int64  \n",
            " 14  MntGoldProds         2240 non-null   int64  \n",
            " 15  NumDealsPurchases    2240 non-null   int64  \n",
            " 16  NumWebPurchases      2240 non-null   int64  \n",
            " 17  NumCatalogPurchases  2240 non-null   int64  \n",
            " 18  NumStorePurchases    2240 non-null   int64  \n",
            " 19  NumWebVisitsMonth    2240 non-null   int64  \n",
            " 20  AcceptedCmp3         2240 non-null   int64  \n",
            " 21  AcceptedCmp4         2240 non-null   int64  \n",
            " 22  AcceptedCmp5         2240 non-null   int64  \n",
            " 23  AcceptedCmp1         2240 non-null   int64  \n",
            " 24  AcceptedCmp2         2240 non-null   int64  \n",
            " 25  Complain             2240 non-null   int64  \n",
            " 26  Z_CostContact        2240 non-null   int64  \n",
            " 27  Z_Revenue            2240 non-null   int64  \n",
            " 28  Response             2240 non-null   int64  \n",
            "dtypes: float64(1), int64(25), object(3)\n",
            "memory usage: 507.6+ KB\n"
          ]
        }
      ]
    },
    {
      "cell_type": "markdown",
      "source": [
        "# Làm sạch dữ liệu"
      ],
      "metadata": {
        "id": "Qo17SCxMfXLT"
      }
    },
    {
      "cell_type": "markdown",
      "source": [
        "Lọc các cột cần dùng"
      ],
      "metadata": {
        "id": "3-UYIkFrfSq4"
      }
    },
    {
      "cell_type": "code",
      "source": [
        "need_cols = [\"Education\", \"Marital_Status\", \"MntWines\", \"MntFruits\", \"MntMeatProducts\", \"MntFishProducts\", \"MntSweetProducts\", \\\n",
        "             \"MntGoldProds\", \"NumDealsPurchases\", \"NumWebPurchases\", \"NumCatalogPurchases\", \"NumStorePurchases\"]"
      ],
      "metadata": {
        "id": "vMG_N7K7fcWD"
      },
      "execution_count": 26,
      "outputs": []
    },
    {
      "cell_type": "code",
      "source": [
        "data = data[need_cols]"
      ],
      "metadata": {
        "id": "6mujxb8MgaKD"
      },
      "execution_count": 27,
      "outputs": []
    },
    {
      "cell_type": "code",
      "source": [
        "data.head()"
      ],
      "metadata": {
        "colab": {
          "base_uri": "https://localhost:8080/",
          "height": 270
        },
        "id": "U9eeAGnZggjS",
        "outputId": "e1458032-6a28-421e-fa78-27928ffe6dbc"
      },
      "execution_count": 28,
      "outputs": [
        {
          "output_type": "execute_result",
          "data": {
            "text/plain": [
              "    Education Marital_Status  MntWines  MntFruits  MntMeatProducts  \\\n",
              "0  Graduation         Single       635         88              546   \n",
              "1  Graduation         Single        11          1                6   \n",
              "2  Graduation       Together       426         49              127   \n",
              "3  Graduation       Together        11          4               20   \n",
              "4         PhD        Married       173         43              118   \n",
              "\n",
              "   MntFishProducts  MntSweetProducts  MntGoldProds  NumDealsPurchases  \\\n",
              "0              172                88            88                  3   \n",
              "1                2                 1             6                  2   \n",
              "2              111                21            42                  1   \n",
              "3               10                 3             5                  2   \n",
              "4               46                27            15                  5   \n",
              "\n",
              "   NumWebPurchases  NumCatalogPurchases  NumStorePurchases  \n",
              "0                8                   10                  4  \n",
              "1                1                    1                  2  \n",
              "2                8                    2                 10  \n",
              "3                2                    0                  4  \n",
              "4                5                    3                  6  "
            ],
            "text/html": [
              "\n",
              "  <div id=\"df-092ef427-fcc6-45e3-94e6-c8a7cd9ab492\">\n",
              "    <div class=\"colab-df-container\">\n",
              "      <div>\n",
              "<style scoped>\n",
              "    .dataframe tbody tr th:only-of-type {\n",
              "        vertical-align: middle;\n",
              "    }\n",
              "\n",
              "    .dataframe tbody tr th {\n",
              "        vertical-align: top;\n",
              "    }\n",
              "\n",
              "    .dataframe thead th {\n",
              "        text-align: right;\n",
              "    }\n",
              "</style>\n",
              "<table border=\"1\" class=\"dataframe\">\n",
              "  <thead>\n",
              "    <tr style=\"text-align: right;\">\n",
              "      <th></th>\n",
              "      <th>Education</th>\n",
              "      <th>Marital_Status</th>\n",
              "      <th>MntWines</th>\n",
              "      <th>MntFruits</th>\n",
              "      <th>MntMeatProducts</th>\n",
              "      <th>MntFishProducts</th>\n",
              "      <th>MntSweetProducts</th>\n",
              "      <th>MntGoldProds</th>\n",
              "      <th>NumDealsPurchases</th>\n",
              "      <th>NumWebPurchases</th>\n",
              "      <th>NumCatalogPurchases</th>\n",
              "      <th>NumStorePurchases</th>\n",
              "    </tr>\n",
              "  </thead>\n",
              "  <tbody>\n",
              "    <tr>\n",
              "      <th>0</th>\n",
              "      <td>Graduation</td>\n",
              "      <td>Single</td>\n",
              "      <td>635</td>\n",
              "      <td>88</td>\n",
              "      <td>546</td>\n",
              "      <td>172</td>\n",
              "      <td>88</td>\n",
              "      <td>88</td>\n",
              "      <td>3</td>\n",
              "      <td>8</td>\n",
              "      <td>10</td>\n",
              "      <td>4</td>\n",
              "    </tr>\n",
              "    <tr>\n",
              "      <th>1</th>\n",
              "      <td>Graduation</td>\n",
              "      <td>Single</td>\n",
              "      <td>11</td>\n",
              "      <td>1</td>\n",
              "      <td>6</td>\n",
              "      <td>2</td>\n",
              "      <td>1</td>\n",
              "      <td>6</td>\n",
              "      <td>2</td>\n",
              "      <td>1</td>\n",
              "      <td>1</td>\n",
              "      <td>2</td>\n",
              "    </tr>\n",
              "    <tr>\n",
              "      <th>2</th>\n",
              "      <td>Graduation</td>\n",
              "      <td>Together</td>\n",
              "      <td>426</td>\n",
              "      <td>49</td>\n",
              "      <td>127</td>\n",
              "      <td>111</td>\n",
              "      <td>21</td>\n",
              "      <td>42</td>\n",
              "      <td>1</td>\n",
              "      <td>8</td>\n",
              "      <td>2</td>\n",
              "      <td>10</td>\n",
              "    </tr>\n",
              "    <tr>\n",
              "      <th>3</th>\n",
              "      <td>Graduation</td>\n",
              "      <td>Together</td>\n",
              "      <td>11</td>\n",
              "      <td>4</td>\n",
              "      <td>20</td>\n",
              "      <td>10</td>\n",
              "      <td>3</td>\n",
              "      <td>5</td>\n",
              "      <td>2</td>\n",
              "      <td>2</td>\n",
              "      <td>0</td>\n",
              "      <td>4</td>\n",
              "    </tr>\n",
              "    <tr>\n",
              "      <th>4</th>\n",
              "      <td>PhD</td>\n",
              "      <td>Married</td>\n",
              "      <td>173</td>\n",
              "      <td>43</td>\n",
              "      <td>118</td>\n",
              "      <td>46</td>\n",
              "      <td>27</td>\n",
              "      <td>15</td>\n",
              "      <td>5</td>\n",
              "      <td>5</td>\n",
              "      <td>3</td>\n",
              "      <td>6</td>\n",
              "    </tr>\n",
              "  </tbody>\n",
              "</table>\n",
              "</div>\n",
              "      <button class=\"colab-df-convert\" onclick=\"convertToInteractive('df-092ef427-fcc6-45e3-94e6-c8a7cd9ab492')\"\n",
              "              title=\"Convert this dataframe to an interactive table.\"\n",
              "              style=\"display:none;\">\n",
              "        \n",
              "  <svg xmlns=\"http://www.w3.org/2000/svg\" height=\"24px\"viewBox=\"0 0 24 24\"\n",
              "       width=\"24px\">\n",
              "    <path d=\"M0 0h24v24H0V0z\" fill=\"none\"/>\n",
              "    <path d=\"M18.56 5.44l.94 2.06.94-2.06 2.06-.94-2.06-.94-.94-2.06-.94 2.06-2.06.94zm-11 1L8.5 8.5l.94-2.06 2.06-.94-2.06-.94L8.5 2.5l-.94 2.06-2.06.94zm10 10l.94 2.06.94-2.06 2.06-.94-2.06-.94-.94-2.06-.94 2.06-2.06.94z\"/><path d=\"M17.41 7.96l-1.37-1.37c-.4-.4-.92-.59-1.43-.59-.52 0-1.04.2-1.43.59L10.3 9.45l-7.72 7.72c-.78.78-.78 2.05 0 2.83L4 21.41c.39.39.9.59 1.41.59.51 0 1.02-.2 1.41-.59l7.78-7.78 2.81-2.81c.8-.78.8-2.07 0-2.86zM5.41 20L4 18.59l7.72-7.72 1.47 1.35L5.41 20z\"/>\n",
              "  </svg>\n",
              "      </button>\n",
              "      \n",
              "  <style>\n",
              "    .colab-df-container {\n",
              "      display:flex;\n",
              "      flex-wrap:wrap;\n",
              "      gap: 12px;\n",
              "    }\n",
              "\n",
              "    .colab-df-convert {\n",
              "      background-color: #E8F0FE;\n",
              "      border: none;\n",
              "      border-radius: 50%;\n",
              "      cursor: pointer;\n",
              "      display: none;\n",
              "      fill: #1967D2;\n",
              "      height: 32px;\n",
              "      padding: 0 0 0 0;\n",
              "      width: 32px;\n",
              "    }\n",
              "\n",
              "    .colab-df-convert:hover {\n",
              "      background-color: #E2EBFA;\n",
              "      box-shadow: 0px 1px 2px rgba(60, 64, 67, 0.3), 0px 1px 3px 1px rgba(60, 64, 67, 0.15);\n",
              "      fill: #174EA6;\n",
              "    }\n",
              "\n",
              "    [theme=dark] .colab-df-convert {\n",
              "      background-color: #3B4455;\n",
              "      fill: #D2E3FC;\n",
              "    }\n",
              "\n",
              "    [theme=dark] .colab-df-convert:hover {\n",
              "      background-color: #434B5C;\n",
              "      box-shadow: 0px 1px 3px 1px rgba(0, 0, 0, 0.15);\n",
              "      filter: drop-shadow(0px 1px 2px rgba(0, 0, 0, 0.3));\n",
              "      fill: #FFFFFF;\n",
              "    }\n",
              "  </style>\n",
              "\n",
              "      <script>\n",
              "        const buttonEl =\n",
              "          document.querySelector('#df-092ef427-fcc6-45e3-94e6-c8a7cd9ab492 button.colab-df-convert');\n",
              "        buttonEl.style.display =\n",
              "          google.colab.kernel.accessAllowed ? 'block' : 'none';\n",
              "\n",
              "        async function convertToInteractive(key) {\n",
              "          const element = document.querySelector('#df-092ef427-fcc6-45e3-94e6-c8a7cd9ab492');\n",
              "          const dataTable =\n",
              "            await google.colab.kernel.invokeFunction('convertToInteractive',\n",
              "                                                     [key], {});\n",
              "          if (!dataTable) return;\n",
              "\n",
              "          const docLinkHtml = 'Like what you see? Visit the ' +\n",
              "            '<a target=\"_blank\" href=https://colab.research.google.com/notebooks/data_table.ipynb>data table notebook</a>'\n",
              "            + ' to learn more about interactive tables.';\n",
              "          element.innerHTML = '';\n",
              "          dataTable['output_type'] = 'display_data';\n",
              "          await google.colab.output.renderOutput(dataTable, element);\n",
              "          const docLink = document.createElement('div');\n",
              "          docLink.innerHTML = docLinkHtml;\n",
              "          element.appendChild(docLink);\n",
              "        }\n",
              "      </script>\n",
              "    </div>\n",
              "  </div>\n",
              "  "
            ]
          },
          "metadata": {},
          "execution_count": 28
        }
      ]
    },
    {
      "cell_type": "code",
      "source": [
        "data.info()"
      ],
      "metadata": {
        "colab": {
          "base_uri": "https://localhost:8080/"
        },
        "id": "UWm4ZPt4gkQi",
        "outputId": "50547e46-a796-46fc-8985-272fe0d0be07"
      },
      "execution_count": 29,
      "outputs": [
        {
          "output_type": "stream",
          "name": "stdout",
          "text": [
            "<class 'pandas.core.frame.DataFrame'>\n",
            "RangeIndex: 2240 entries, 0 to 2239\n",
            "Data columns (total 12 columns):\n",
            " #   Column               Non-Null Count  Dtype \n",
            "---  ------               --------------  ----- \n",
            " 0   Education            2240 non-null   object\n",
            " 1   Marital_Status       2240 non-null   object\n",
            " 2   MntWines             2240 non-null   int64 \n",
            " 3   MntFruits            2240 non-null   int64 \n",
            " 4   MntMeatProducts      2240 non-null   int64 \n",
            " 5   MntFishProducts      2240 non-null   int64 \n",
            " 6   MntSweetProducts     2240 non-null   int64 \n",
            " 7   MntGoldProds         2240 non-null   int64 \n",
            " 8   NumDealsPurchases    2240 non-null   int64 \n",
            " 9   NumWebPurchases      2240 non-null   int64 \n",
            " 10  NumCatalogPurchases  2240 non-null   int64 \n",
            " 11  NumStorePurchases    2240 non-null   int64 \n",
            "dtypes: int64(10), object(2)\n",
            "memory usage: 210.1+ KB\n"
          ]
        }
      ]
    },
    {
      "cell_type": "markdown",
      "source": [
        "Không có dữ liệu NA, nên không cần loại bỏ dữ liệu NA"
      ],
      "metadata": {
        "id": "w2xBneQVg0DQ"
      }
    },
    {
      "cell_type": "code",
      "source": [
        "data.isna().sum()"
      ],
      "metadata": {
        "colab": {
          "base_uri": "https://localhost:8080/"
        },
        "id": "SLyk6Gvhg5JV",
        "outputId": "28e7dc51-9306-452c-abd6-853effe34e8b"
      },
      "execution_count": 30,
      "outputs": [
        {
          "output_type": "execute_result",
          "data": {
            "text/plain": [
              "Education              0\n",
              "Marital_Status         0\n",
              "MntWines               0\n",
              "MntFruits              0\n",
              "MntMeatProducts        0\n",
              "MntFishProducts        0\n",
              "MntSweetProducts       0\n",
              "MntGoldProds           0\n",
              "NumDealsPurchases      0\n",
              "NumWebPurchases        0\n",
              "NumCatalogPurchases    0\n",
              "NumStorePurchases      0\n",
              "dtype: int64"
            ]
          },
          "metadata": {},
          "execution_count": 30
        }
      ]
    },
    {
      "cell_type": "markdown",
      "source": [
        "Vẽ thử biểu đồ boxplot xem có dữ liệu ngoại không"
      ],
      "metadata": {
        "id": "Fyowao1ehALA"
      }
    },
    {
      "cell_type": "code",
      "source": [
        "plt.xticks(rotation=57)\n",
        "sns.boxplot(data=data)"
      ],
      "metadata": {
        "colab": {
          "base_uri": "https://localhost:8080/",
          "height": 372
        },
        "id": "qxOJMUHxhFxp",
        "outputId": "7b66bbb1-8867-4ec9-9d5c-ee539d159177"
      },
      "execution_count": 32,
      "outputs": [
        {
          "output_type": "execute_result",
          "data": {
            "text/plain": [
              "<matplotlib.axes._subplots.AxesSubplot at 0x7f6d39902250>"
            ]
          },
          "metadata": {},
          "execution_count": 32
        },
        {
          "output_type": "display_data",
          "data": {
            "text/plain": [
              "<Figure size 432x288 with 1 Axes>"
            ],
            "image/png": "[encoded data removed]"
          },
          "metadata": {
            "needs_background": "light"
          }
        }
      ]
    },
    {
      "cell_type": "markdown",
      "source": [
        "Không có dữ liệu ngoại lai"
      ],
      "metadata": {
        "id": "dpgGV1IBhizS"
      }
    },
    {
      "cell_type": "markdown",
      "source": [
        "# Thực hiện phân tích"
      ],
      "metadata": {
        "id": "OsrK2kLVhywA"
      }
    },
    {
      "cell_type": "markdown",
      "source": [
        "## So sánh chi tiêu theo trình độ học vấn"
      ],
      "metadata": {
        "id": "KtSFW6fwJ6rF"
      }
    },
    {
      "cell_type": "code",
      "source": [
        "ax = sns.countplot(x = 'Education',data = data)\n",
        "abs_values = data['Education'].sort_values(ascending = False).value_counts(ascending=False).values\n",
        "\n",
        "# s = ax.bar_label(container=ax.containers[0], labels=abs_values)"
      ],
      "metadata": {
        "colab": {
          "base_uri": "https://localhost:8080/",
          "height": 279
        },
        "id": "4tX99PZ3J7In",
        "outputId": "d420e576-d802-448b-ae32-2c9ca9b5695e"
      },
      "execution_count": 35,
      "outputs": [
        {
          "output_type": "display_data",
          "data": {
            "text/plain": [
              "<Figure size 432x288 with 1 Axes>"
            ],
            "image/png": "[encoded data removed]"
          },
          "metadata": {
            "needs_background": "light"
          }
        }
      ]
    },
    {
      "cell_type": "markdown",
      "source": [
        "## So sánh sức mua theo tình trang gia đình"
      ],
      "metadata": {
        "id": "CpIS-jiMigPo"
      }
    },
    {
      "cell_type": "code",
      "source": [
        "plt.xticks(rotation=57)\n",
        "ax = sns.countplot(x = 'Marital_Status',data = data)\n",
        "abs_values = data['Marital_Status'].sort_values(ascending = False).value_counts(ascending=False).values"
      ],
      "metadata": {
        "colab": {
          "base_uri": "https://localhost:8080/",
          "height": 313
        },
        "id": "g_efzE_aipuy",
        "outputId": "533f27cb-0d98-44e3-a0de-ceec4bf610f3"
      },
      "execution_count": 40,
      "outputs": [
        {
          "output_type": "display_data",
          "data": {
            "text/plain": [
              "<Figure size 432x288 with 1 Axes>"
            ],
            "image/png": "[encoded data removed]"
          },
          "metadata": {
            "needs_background": "light"
          }
        }
      ]
    },
    {
      "cell_type": "markdown",
      "source": [
        "## Tỷ trọng bán hàng trên các kênh"
      ],
      "metadata": {
        "id": "ilqIHmNrjgHC"
      }
    },
    {
      "cell_type": "code",
      "source": [
        "total_purchase = [col for col in data if col.startswith('Num')]\n",
        "df_TP = data[total_purchase].sum()\n",
        "df_TP1  = pd.DataFrame(df_TP)\n",
        "df_TP1"
      ],
      "metadata": {
        "colab": {
          "base_uri": "https://localhost:8080/",
          "height": 174
        },
        "id": "DzcD_OaujwH2",
        "outputId": "893120b6-4392-4048-d463-53237cf2b228"
      },
      "execution_count": 41,
      "outputs": [
        {
          "output_type": "execute_result",
          "data": {
            "text/plain": [
              "                         0\n",
              "NumDealsPurchases     5208\n",
              "NumWebPurchases       9150\n",
              "NumCatalogPurchases   5963\n",
              "NumStorePurchases    12970"
            ],
            "text/html": [
              "\n",
              "  <div id=\"df-f8ce9c4e-cb55-4579-93c2-b40853292be8\">\n",
              "    <div class=\"colab-df-container\">\n",
              "      <div>\n",
              "<style scoped>\n",
              "    .dataframe tbody tr th:only-of-type {\n",
              "        vertical-align: middle;\n",
              "    }\n",
              "\n",
              "    .dataframe tbody tr th {\n",
              "        vertical-align: top;\n",
              "    }\n",
              "\n",
              "    .dataframe thead th {\n",
              "        text-align: right;\n",
              "    }\n",
              "</style>\n",
              "<table border=\"1\" class=\"dataframe\">\n",
              "  <thead>\n",
              "    <tr style=\"text-align: right;\">\n",
              "      <th></th>\n",
              "      <th>0</th>\n",
              "    </tr>\n",
              "  </thead>\n",
              "  <tbody>\n",
              "    <tr>\n",
              "      <th>NumDealsPurchases</th>\n",
              "      <td>5208</td>\n",
              "    </tr>\n",
              "    <tr>\n",
              "      <th>NumWebPurchases</th>\n",
              "      <td>9150</td>\n",
              "    </tr>\n",
              "    <tr>\n",
              "      <th>NumCatalogPurchases</th>\n",
              "      <td>5963</td>\n",
              "    </tr>\n",
              "    <tr>\n",
              "      <th>NumStorePurchases</th>\n",
              "      <td>12970</td>\n",
              "    </tr>\n",
              "  </tbody>\n",
              "</table>\n",
              "</div>\n",
              "      <button class=\"colab-df-convert\" onclick=\"convertToInteractive('df-f8ce9c4e-cb55-4579-93c2-b40853292be8')\"\n",
              "              title=\"Convert this dataframe to an interactive table.\"\n",
              "              style=\"display:none;\">\n",
              "        \n",
              "  <svg xmlns=\"http://www.w3.org/2000/svg\" height=\"24px\"viewBox=\"0 0 24 24\"\n",
              "       width=\"24px\">\n",
              "    <path d=\"M0 0h24v24H0V0z\" fill=\"none\"/>\n",
              "    <path d=\"M18.56 5.44l.94 2.06.94-2.06 2.06-.94-2.06-.94-.94-2.06-.94 2.06-2.06.94zm-11 1L8.5 8.5l.94-2.06 2.06-.94-2.06-.94L8.5 2.5l-.94 2.06-2.06.94zm10 10l.94 2.06.94-2.06 2.06-.94-2.06-.94-.94-2.06-.94 2.06-2.06.94z\"/><path d=\"M17.41 7.96l-1.37-1.37c-.4-.4-.92-.59-1.43-.59-.52 0-1.04.2-1.43.59L10.3 9.45l-7.72 7.72c-.78.78-.78 2.05 0 2.83L4 21.41c.39.39.9.59 1.41.59.51 0 1.02-.2 1.41-.59l7.78-7.78 2.81-2.81c.8-.78.8-2.07 0-2.86zM5.41 20L4 18.59l7.72-7.72 1.47 1.35L5.41 20z\"/>\n",
              "  </svg>\n",
              "      </button>\n",
              "      \n",
              "  <style>\n",
              "    .colab-df-container {\n",
              "      display:flex;\n",
              "      flex-wrap:wrap;\n",
              "      gap: 12px;\n",
              "    }\n",
              "\n",
              "    .colab-df-convert {\n",
              "      background-color: #E8F0FE;\n",
              "      border: none;\n",
              "      border-radius: 50%;\n",
              "      cursor: pointer;\n",
              "      display: none;\n",
              "      fill: #1967D2;\n",
              "      height: 32px;\n",
              "      padding: 0 0 0 0;\n",
              "      width: 32px;\n",
              "    }\n",
              "\n",
              "    .colab-df-convert:hover {\n",
              "      background-color: #E2EBFA;\n",
              "      box-shadow: 0px 1px 2px rgba(60, 64, 67, 0.3), 0px 1px 3px 1px rgba(60, 64, 67, 0.15);\n",
              "      fill: #174EA6;\n",
              "    }\n",
              "\n",
              "    [theme=dark] .colab-df-convert {\n",
              "      background-color: #3B4455;\n",
              "      fill: #D2E3FC;\n",
              "    }\n",
              "\n",
              "    [theme=dark] .colab-df-convert:hover {\n",
              "      background-color: #434B5C;\n",
              "      box-shadow: 0px 1px 3px 1px rgba(0, 0, 0, 0.15);\n",
              "      filter: drop-shadow(0px 1px 2px rgba(0, 0, 0, 0.3));\n",
              "      fill: #FFFFFF;\n",
              "    }\n",
              "  </style>\n",
              "\n",
              "      <script>\n",
              "        const buttonEl =\n",
              "          document.querySelector('#df-f8ce9c4e-cb55-4579-93c2-b40853292be8 button.colab-df-convert');\n",
              "        buttonEl.style.display =\n",
              "          google.colab.kernel.accessAllowed ? 'block' : 'none';\n",
              "\n",
              "        async function convertToInteractive(key) {\n",
              "          const element = document.querySelector('#df-f8ce9c4e-cb55-4579-93c2-b40853292be8');\n",
              "          const dataTable =\n",
              "            await google.colab.kernel.invokeFunction('convertToInteractive',\n",
              "                                                     [key], {});\n",
              "          if (!dataTable) return;\n",
              "\n",
              "          const docLinkHtml = 'Like what you see? Visit the ' +\n",
              "            '<a target=\"_blank\" href=https://colab.research.google.com/notebooks/data_table.ipynb>data table notebook</a>'\n",
              "            + ' to learn more about interactive tables.';\n",
              "          element.innerHTML = '';\n",
              "          dataTable['output_type'] = 'display_data';\n",
              "          await google.colab.output.renderOutput(dataTable, element);\n",
              "          const docLink = document.createElement('div');\n",
              "          docLink.innerHTML = docLinkHtml;\n",
              "          element.appendChild(docLink);\n",
              "        }\n",
              "      </script>\n",
              "    </div>\n",
              "  </div>\n",
              "  "
            ]
          },
          "metadata": {},
          "execution_count": 41
        }
      ]
    },
    {
      "cell_type": "code",
      "source": [
        "myexplode = [0,0,0,0.051]\n",
        "plt.pie(df_TP,labels=df_TP1.index,explode=myexplode, shadow=True, autopct=\"%1.2f%%\")"
      ],
      "metadata": {
        "colab": {
          "base_uri": "https://localhost:8080/",
          "height": 456
        },
        "id": "uBvYhAZEj86x",
        "outputId": "c4045932-88f4-4bcc-d39f-3260f5bbfb6d"
      },
      "execution_count": 51,
      "outputs": [
        {
          "output_type": "execute_result",
          "data": {
            "text/plain": [
              "([<matplotlib.patches.Wedge at 0x7f6d391a2c50>,\n",
              "  <matplotlib.patches.Wedge at 0x7f6d391ae490>,\n",
              "  <matplotlib.patches.Wedge at 0x7f6d391ae590>,\n",
              "  <matplotlib.patches.Wedge at 0x7f6d391b90d0>],\n",
              " [Text(0.9698058573993448, 0.5191113550616302, 'NumDealsPurchases'),\n",
              "  Text(-0.29933747437362795, 1.0584881087832863, 'NumWebPurchases'),\n",
              "  Text(-1.090577484984908, -0.14366888752960116, 'NumCatalogPurchases'),\n",
              "  Text(0.3912657252704605, -1.0824565267153137, 'NumStorePurchases')],\n",
              " [Text(0.5289850131269153, 0.2831516482154346, '15.64%'),\n",
              "  Text(-0.16327498602197885, 0.5773571502454288, '27.48%'),\n",
              "  Text(-0.5948604463554042, -0.0783648477434188, '17.91%'),\n",
              "  Text(0.22129799057434385, -0.6122321449971062, '38.96%')])"
            ]
          },
          "metadata": {},
          "execution_count": 51
        },
        {
          "output_type": "display_data",
          "data": {
            "text/plain": [
              "<Figure size 432x288 with 1 Axes>"
            ],
            "image/png": "[encoded data removed]"
          },
          "metadata": {}
        }
      ]
    },
    {
      "cell_type": "markdown",
      "source": [
        "## Các biểu đồ so sánh chi tiết chi tiêu theo tình trạng gia đình trên từng loại mặt hàng"
      ],
      "metadata": {
        "id": "eGzMhSkllIHQ"
      }
    },
    {
      "cell_type": "code",
      "source": [
        ""
      ],
      "metadata": {
        "id": "fhrBjyAyKzOV"
      },
      "execution_count": null,
      "outputs": []
    },
    {
      "cell_type": "code",
      "source": [
        "fig, axes = plt.subplots(1,4,figsize = (16,3))\n",
        "\n",
        "fig.suptitle('Different Purchases')\n",
        "ax1 = sns.barplot(ax = axes[0],x=data['Marital_Status'],y = data['NumStorePurchases'])\n",
        "# ax1.set_xticklabels(ax1.get_xticklabels(), rotation=45) \n",
        "#axes[0].set_title()\n",
        "sns.barplot(ax = axes[1],x=data['Marital_Status'],y = data['NumCatalogPurchases'])\n",
        "\n",
        "sns.barplot(ax = axes[2],x=data['Marital_Status'],y = data['NumWebPurchases'])\n",
        "\n",
        "sns.barplot(ax = axes[3],x=data['Marital_Status'],y = data['NumDealsPurchases'])\n",
        "\n",
        "for ax in axes:\n",
        "    ax.set_xticklabels(ax.get_xticklabels(), rotation=45) "
      ],
      "metadata": {
        "colab": {
          "base_uri": "https://localhost:8080/",
          "height": 276
        },
        "id": "RDP-xJ0qK5Ku",
        "outputId": "c2053c53-6a67-4569-c953-312f215c06a0"
      },
      "execution_count": 69,
      "outputs": [
        {
          "output_type": "display_data",
          "data": {
            "text/plain": [
              "<Figure size 1152x216 with 4 Axes>"
            ],
            "image/png": "[encoded data removed]"
          },
          "metadata": {
            "needs_background": "light"
          }
        }
      ]
    }
  ]
}